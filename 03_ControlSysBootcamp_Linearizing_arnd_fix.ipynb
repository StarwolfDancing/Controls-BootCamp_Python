{
 "cells": [
  {
   "cell_type": "markdown",
   "metadata": {},
   "source": [
    "# Control System Bootcamp Video 4"
   ]
  },
  {
   "cell_type": "code",
   "execution_count": 1,
   "metadata": {
    "jupyter": {
     "source_hidden": true
    },
    "tags": []
   },
   "outputs": [
    {
     "data": {
      "text/html": [
       "\n",
       "<iframe width=\"560\" height=\"315\" src=\"https://www.youtube.com/embed/1YMTkELi3tE\" frameborder=\"0\" allow=\"autoplay; encrypted-media\" allowfullscreen></iframe>\n"
      ],
      "text/plain": [
       "<IPython.core.display.HTML object>"
      ]
     },
     "execution_count": 1,
     "metadata": {},
     "output_type": "execute_result"
    }
   ],
   "source": [
    "from IPython.display import HTML\n",
    "HTML(\"\"\"\n",
    "<iframe width=\"560\" height=\"315\" src=\"https://www.youtube.com/embed/1YMTkELi3tE\" frameborder=\"0\" allow=\"autoplay; encrypted-media\" allowfullscreen></iframe>\n",
    "\"\"\")"
   ]
  },
  {
   "cell_type": "markdown",
   "metadata": {},
   "source": [
    "## Linearizing Around a Fixed Point\n",
    "\n",
    "If we have a non linear system of differential equations $\\dot X = f(X)$, how do we obtain a linear differential equation of the form $\\dot X = AX$ from it?"
   ]
  },
  {
   "cell_type": "markdown",
   "metadata": {},
   "source": [
    "Find fixed points: $\\bar X$ such that $f(\\bar X) = 0$\n",
    "\n",
    "Example: Inverted pendulum, if it is kept perfectly vertical, pendulum up or down position, they are fixed points where there is no relative motion of the pendulum.\n",
    "\n",
    "Linearize about $\\bar X$, by calculating matrix of partial differential equations or the jacobian $\\frac{Df}{DX}\\mid_{\\bar X}$\n",
    "\n",
    "For example, $\\dot {X_1} = f_1(X_1,X_2) = X_1X_2$   and,   $\\dot {X_2} = f_2(X_1,X_2)={X_1}^2 + {X_2}^2$\n",
    "    \n",
    "$$\\frac{Df}{DX} \\mid_{\\bar X} = \\begin{bmatrix}\\frac{\\partial f_1}{\\partial X_1} & \\frac{\\partial f_1}{\\partial X_2} \\\\\\frac{\\partial f_2}{\\partial X_2} & \\frac{\\partial f_2}{\\partial X_2} \\end{bmatrix} = \\begin{bmatrix} X_2 & X_1 \\\\ 2X_1 & 2X_2 \\end{bmatrix}$$\n",
    "    "
   ]
  },
  {
   "cell_type": "markdown",
   "metadata": {},
   "source": [
    "$$\\frac{Df}{DX}\\mid_{\\bar X} = [\\frac{\\partial f_i}{\\partial X_j}]$$\n",
    "    \n",
    "Consider a non linear function of the form in the figure. Let $\\bar X$ be the fixed point. \n",
    "\n",
    "![Non linear func](graph6.jpg)\n",
    "  \n",
    "Changing coordinate system so that origin is at $\\bar X$\n",
    "  \n",
    "Taylor series expansion, \n",
    "\n",
    "$$\\dot X = f(X) = f(\\bar X) + \\frac{Df}{DX}\\mid_{\\bar X}(X-\\bar X)+ \\frac{D^2f}{D^2X}\\mid_{\\bar X}(X-\\bar X)^2 + ...$$\n",
    "  \n",
    "By definition, $f(\\bar X) = 0$ and larger terms are very small as $\\Delta X$ is very small. So what remains is,\n",
    "  \n",
    "$$\\dot X = f(X) = \\frac{Df}{DX}\\mid_{\\bar X}(X-\\bar X)$$\n",
    "  \n",
    "Around the small window $\\Delta X$, the equation looks like:\n",
    "  \n",
    "$$\\Delta \\dot X = \\frac{Df}{DX}\\mid_{\\bar X} \\Delta X$$\n",
    "\n",
    "So now, we can roughly write the system equation about $\\bar X$ or dynamics in small interval $\\Delta X$ near $\\bar X$ as\n",
    "\n",
    "$$\\Delta \\dot X = A\\Delta X$$\n",
    "  \n",
    "If all the eigen values of the linearizaton have non zero real part, the linearization can describe the system in the neighbourhood $\\Delta X$.(Hartman Grobman theorem/Linearization theorem)\n",
    "  "
   ]
  },
  {
   "cell_type": "markdown",
   "metadata": {},
   "source": [
    "## Example: Pendulum\n",
    "\n",
    "Equation of pendulum is given by: $\\ddot \\theta = \\frac{-g}{L} sin \\theta(t)$\n",
    "\n",
    "L is the length of the pendulum, m is mass.\n",
    "    \n",
    "![Pendulum image](.images/graph7.JPG)\n",
    "\n",
    "$\\theta = 0, \\theta = \\pi$ are the fixed points.\n",
    "\n",
    "Assuming friction,\n",
    "\n",
    "$$\\ddot \\theta = \\frac{-g}{L} sin \\theta(t) - \\delta \\dot \\theta $$\n",
    "\n",
    "For small angles $sin(\\theta) = \\theta$. Assuming $\\frac{g}{L}\\rightarrow 1$, bringing the equation to the form $\\dot X= f(X)$\n",
    "\n",
    "$$\\begin{bmatrix} X_1 \\\\ X_2 \\end{bmatrix} = \\begin{bmatrix} \\theta \\\\ \\dot \\theta \\end{bmatrix}$$\n",
    "\n",
    "$$\\frac{d}{dt}\\begin{bmatrix} X_1 \\\\ X_2 \\end{bmatrix}= \\begin{bmatrix} X_2 \\\\ -sin X_1-\\delta X_2 \\end{bmatrix}$$\n",
    "\n",
    "Fixed points, $\\bar X = \\begin{bmatrix} 0 \\\\ 0 \\end{bmatrix}, \\begin{bmatrix} \\pi \\\\ 0 \\end{bmatrix}$\n",
    "\n",
    "Compute Jacobian and apply the fixed points: \n",
    "\n",
    "$$\\frac{Df}{DX} \\bar X= \\begin{bmatrix} 0 & 1 \\\\ -cos X_1 & -\\delta \\end{bmatrix}$$\n",
    "\n",
    "$$A_d =  \\begin{bmatrix} 0 & 1 \\\\ -1 & -\\delta \\end{bmatrix}$$\n",
    "\n",
    "$$A_u =  \\begin{bmatrix} 0 & 1 \\\\ 1 & -\\delta \\end{bmatrix}$$\n",
    "\n",
    "$$\\dot X =A_d X$$\n",
    "$$\\dot X = A_u X$$"
   ]
  },
  {
   "cell_type": "markdown",
   "metadata": {},
   "source": [
    "Calculating eigen values of $A_d$ and $A_u$ (https://numpy.org/doc/stable/reference/generated/numpy.linalg.eig.html)"
   ]
  },
  {
   "cell_type": "code",
   "execution_count": 9,
   "metadata": {
    "tags": []
   },
   "outputs": [
    {
     "data": {
      "text/plain": [
       "(array([-0.05+0.99874922j, -0.05-0.99874922j]),\n",
       " array([ 0.95124922, -1.05124922]))"
      ]
     },
     "execution_count": 9,
     "metadata": {},
     "output_type": "execute_result"
    }
   ],
   "source": [
    "import numpy as np\n",
    "\n",
    "d = 0.1\n",
    "\n",
    "A_d = np.array([[0, 1], [-1, -d]])\n",
    "A_u = np.array([[0, 1], [+1, -d]])\n",
    "\n",
    "Evals_d, _ = np.linalg.eig(A_d)  # Returns eigen values, vectors\n",
    "Evals_u, _ = np.linalg.eig(A_u)  # Returns eigen values, vectors\n",
    "Evals_d, Evals_u"
   ]
  },
  {
   "cell_type": "code",
   "execution_count": 8,
   "metadata": {
    "tags": []
   },
   "outputs": [
    {
     "name": "stdout",
     "output_type": "stream",
     "text": [
      "Eigen values of Ad:[-0.05+0.99874922j -0.05-0.99874922j]\n",
      "\n",
      "Eigen values of Au:[ 0.95124922 -1.05124922]\n"
     ]
    }
   ],
   "source": [
    "print(f\"Eigen values of Ad:{Evals_d}\\n\")\n",
    "print(f\"Eigen values of Au:{Evals_u}\")"
   ]
  },
  {
   "cell_type": "markdown",
   "metadata": {},
   "source": [
    "$A_d$ has negative real parts for all eigen values, the system is stable at fixed point $\\begin{bmatrix}0\\\\0\\end{bmatrix}$.\n",
    "\n",
    "$A_u$ has a positive real part. So system is not stable at fixed point $\\begin{bmatrix}\\pi\\\\0\\end{bmatrix}$."
   ]
  }
 ],
 "metadata": {
  "celltoolbar": "Raw Cell Format",
  "kernelspec": {
   "display_name": "Python 3 (ipykernel)",
   "language": "python",
   "name": "python3"
  },
  "language_info": {
   "codemirror_mode": {
    "name": "ipython",
    "version": 3
   },
   "file_extension": ".py",
   "mimetype": "text/x-python",
   "name": "python",
   "nbconvert_exporter": "python",
   "pygments_lexer": "ipython3",
   "version": "3.11.3"
  }
 },
 "nbformat": 4,
 "nbformat_minor": 4
}
