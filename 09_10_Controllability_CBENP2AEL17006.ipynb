{
 "cells": [
  {
   "cell_type": "markdown",
   "metadata": {},
   "source": [
    "# Controllability"
   ]
  },
  {
   "cell_type": "markdown",
   "metadata": {},
   "source": [
    "Controllability deals with the possibility of forcing the system to a particular state by application of a control input.property plays a crucial role in many control problems, such as stabilization of unstable systems by feedback, or optimal control."
   ]
  },
  {
   "cell_type": "markdown",
   "metadata": {},
   "source": [
    "Let us consider an example for control system eqaution: $Y = Ax+Bu$"
   ]
  },
  {
   "cell_type": "markdown",
   "metadata": {},
   "source": [
    "Controllability of above mentioned control system can be checked by using Popov-Belevitch-Hautus (PBH) controllability test"
   ]
  },
  {
   "cell_type": "markdown",
   "metadata": {},
   "source": [
    "# PBH Test"
   ]
  },
  {
   "cell_type": "markdown",
   "metadata": {},
   "source": [
    "$(A, B)$ is controllable if and only if the rank of $AB = n$ where $n$ is the order of the square matrix of $A$, it should satisfy the following conditions:"
   ]
  },
  {
   "cell_type": "markdown",
   "metadata": {},
   "source": [
    "## Conditions\n",
    "\n",
    "Rank of the characteristic equation should be equal to n\n",
    "\n",
    "Characteristic eqaution of $[AB] = [(A- \\lambda I) B]$"
   ]
  },
  {
   "cell_type": "markdown",
   "metadata": {},
   "source": [
    "1.Rank of (A-λI) is equal to n if and only if <b>λ value is not equal to Eigen Values"
   ]
  },
  {
   "cell_type": "markdown",
   "metadata": {},
   "source": [
    "2.(A-λI) is rank deficient only in the direction of λ.\n",
    "\n",
    "If there is any independent vector in the direction of each eigen vector,then Rank will be equal to 'n'"
   ]
  },
  {
   "cell_type": "markdown",
   "metadata": {},
   "source": [
    "3.If we choose B as a random vector, having some component in all eigen vectors dierection of A then the system having high probability of controllability"
   ]
  },
  {
   "cell_type": "markdown",
   "metadata": {},
   "source": [
    "# Inputs Required to control system:"
   ]
  },
  {
   "cell_type": "markdown",
   "metadata": {},
   "source": [
    "Number of inputs required to control the system can be decided by number of column vectors in B"
   ]
  },
  {
   "cell_type": "markdown",
   "metadata": {},
   "source": [
    "# Otherwise"
   ]
  },
  {
   "cell_type": "markdown",
   "metadata": {},
   "source": [
    "i.If Eigen Values of A are distinct then only one column vector B is required to control.\n",
    "\n",
    "ii.If Eigen Valies are Same then more number of column vectors in B should be there.<ol>Ex: λ1 = λ2 = 4\n",
    "Then B should have two column vectors in B.\n",
    "    "
   ]
  },
  {
   "cell_type": "markdown",
   "metadata": {},
   "source": [
    "The controllability matrix is given by:\n",
    "\\begin{equation}\n",
    "C=\\begin{bmatrix}B & AB & A^{2}B.....& A^{n-1}B \\\\ \\end{bmatrix}\n",
    "\\end{equation}"
   ]
  },
  {
   "cell_type": "markdown",
   "metadata": {},
   "source": [
    "<iframe width=\"853\" height=\"480\" src=\"https://www.youtube.com/embed/0XJHgLrcPeA?list=PLMrJAkhIeNNR20Mz-VpzgfQs5zrYi085m\" frameborder=\"0\" allow=\"autoplay; encrypted-media\" allowfullscreen></iframe>"
   ]
  },
  {
   "cell_type": "markdown",
   "metadata": {},
   "source": [
    "# Cayley-Hamilton Theorm\n",
    "\n",
    "**Statement**: (Almost) every square matrix $A$ satisfies it's own characteristic (eigenvalue) equation.\n",
    "\n",
    "![](./images/CayleyHamiltonTheorm.png)\n",
    "\n",
    "![](./images/CayleyHamiltonTheorm2.png)"
   ]
  },
  {
   "cell_type": "markdown",
   "metadata": {},
   "source": [
    "<iframe width=\"853\" height=\"480\" src=\"https://www.youtube.com/embed/PrfxmkBsYKE?list=PLMrJAkhIeNNR20Mz-VpzgfQs5zrYi085m\" frameborder=\"0\" allow=\"autoplay; encrypted-media\" allowfullscreen></iframe>"
   ]
  }
 ],
 "metadata": {
  "kernelspec": {
   "display_name": "Python 3 (ipykernel)",
   "language": "python",
   "name": "python3"
  },
  "language_info": {
   "codemirror_mode": {
    "name": "ipython",
    "version": 3
   },
   "file_extension": ".py",
   "mimetype": "text/x-python",
   "name": "python",
   "nbconvert_exporter": "python",
   "pygments_lexer": "ipython3",
   "version": "3.11.3"
  }
 },
 "nbformat": 4,
 "nbformat_minor": 4
}
