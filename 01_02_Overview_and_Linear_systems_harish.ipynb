{
 "cells": [
  {
   "cell_type": "markdown",
   "metadata": {},
   "source": [
    "## Harish T"
   ]
  },
  {
   "cell_type": "markdown",
   "metadata": {},
   "source": [
    "# Roll No. CB.EN.P2AEL17008"
   ]
  },
  {
   "cell_type": "markdown",
   "metadata": {},
   "source": [
    "# Control Bootcamp - Overview and Linear systems (Videos 1 & 2)\n",
    "\n",
    "## Videos links\n",
    "\n",
    "video 1 - https://www.youtube.com/watch?v=Pi7l8mMjYVE&list=PLMrJAkhIeNNR20Mz-VpzgfQs5zrYi085m\n",
    "\n",
    "video 2 - https://www.youtube.com/watch?v=nyqJJdhReiA&index=2&list=PLMrJAkhIeNNR20Mz-VpzgfQs5zrYi085m"
   ]
  },
  {
   "cell_type": "markdown",
   "metadata": {},
   "source": [
    "# Modern control theory and State Space Analysis\n",
    "\n",
    "This lecture is about the perspective of dynamical systems, sequence of ordinary [differential equations](https://en.wikipedia.org/wiki/Differential_equation) in terms of the state of your system. This is been an extremely successful pheonomeon for modelling real world phenomenon.We model the fluid flow over a wing or the population dynamics in a city, or a spread of a discease or stock market, climate, planets moving around the solar system. All these can be modelled as dynamical system. This is a frame work to model to take in data from the real world and build models which we can use for prediction. Often we want to go beyond describing the system of interest, actually manipulate the system actively to change its behavior. That could be just imposing some controller or just setting inputs into the system in a certain pre-planned way to manipulate it or you can actuallt measure that system and make decisions based on how the system is responding to what you do. We can take an example of a dynamic system pendulam or a crane, you want to make more stable. We write down the system of equations and then we design some control policy that changes the behavior of the system to be more desirable."
   ]
  },
  {
   "cell_type": "markdown",
   "metadata": {},
   "source": [
    "## Variours types of controls systems. They are lots of controls that take place everyday. \n",
    "\n",
    "1. Passive Control Systems\n",
    "\n",
    "2. Active Control Systems\n",
    "\n",
    "    i. Open-loop control systems\n",
    "    \n",
    "    ii. Closed-loop control systems\n",
    "\n",
    "<img src=\"./images/TypesOfControl.png\" alt=\"Types Of Control\" style=\"display:block; float:none; margin-left:auto; margin-right:auto; width:30%\">"
   ]
  },
  {
   "cell_type": "markdown",
   "metadata": {},
   "source": [
    "1. Passive control\n",
    "\n",
    "In passive control, we just have to design an upfront and there is no need to give energy in controlling. \n",
    "\n",
    "Example: \n",
    "\n",
    "If we see a large 18 wheeler truck going down the highway and it has the streamlined tale section. Its passively causing the air around the truck to behave in a favourable way to reduce drag. In passive control, we just have to design an upfront and there is no need to give energy in controlling. But passive control is typically not enough. And so often times we need to do something like active control."
   ]
  },
  {
   "cell_type": "markdown",
   "metadata": {},
   "source": [
    "2. Active control\n",
    "\n",
    "Active control is like pumping energy into the system to actively manipulate its behavior. There are various types of active control systems. \n",
    "\n",
    "**i. Open loop systems**\n",
    "\n",
    "This is probably the most common form of active control where essentially we have our system of interest. \n",
    "\n",
    "![openloop control system](./images/openloop-control-system.PNG)\n",
    "\n",
    "We have some system, the system has some inputs (variable $u$), and has some outputs (variable $y$). What the open loop controller does is it essentially reverse designs your system and inverts the dynamics to figure out exactly what is the perfect input $u$ to get the desired output $y$."
   ]
  },
  {
   "cell_type": "markdown",
   "metadata": {},
   "source": [
    "Example:\n",
    "\n",
    "In case of inverted pendulum we trying to make it stablize on our hands. In open loop control, to make the inverted pendulum stablized, we need to continously supply energy to base.\n",
    "\n",
    "**ii. Closed Loop systems**\n",
    "\n",
    "![closed loop control system](./images/closed-loop-control-system.PNG)\n",
    "\n",
    "In closed loop systems, we take sensors to measure what the system is actually doing and somehow we build a controller and we feed that back into our input signal and we can manipulate the system.  In case of inverted pendulam, as a human we can measure with our eyes if it is starting to wobble, then by controling through we can stablize the pendulam"
   ]
  },
  {
   "cell_type": "markdown",
   "metadata": {},
   "source": [
    "### Why feedback?\n",
    "\n",
    "\n",
    "This is a very very important topic in control theory.\n",
    "\n",
    "**i) Uncertainity**\n",
    "\n",
    "May be the our system has some inherent 'Uncertainity'. This is one of the main enemies of open loop control. In case of pendulum, when we perfectly pre-plan what we want to do. If our system has some uncertainity like the length of the pendulam is little bit longer or little bit heavier or there is wind blowing. Because of these uncertainities our pre planned trajectories will be changed. Then if we have a feedback mechanism, even if the controller output is not matching with our expectations, we can manipulate its input to change the output accordingly.\n",
    "\n",
    "**ii) Instability**\n",
    "\n",
    "With open loop control, I cannot fundamentally change the behavior of system itself. In case of inverted pendulum we can pump in energy in terms of sinusoidal base motion, that will force the system to take correct itself to align with vertical. Here we are not actually changing the system's dynamics itself. The system still itself is in unstable and has an unstable [eigen values](https://en.wikipedia.org/wiki/Eigenvalues_and_eigenvectors). When we have feedback control, I can directly manipulate the actual dynamics of this closed loop system and I can change the dynamic properties (eigen values) of the system\n",
    "\n",
    "**iii) Disturbances**\n",
    "\n",
    "In case of our pendulum, the wind is the disturbance. If we have open loop strategy, essentially that might not be able to adjust to the wind where as in closed loop system, the air will flow through the system and measured through sensor so that we can actually take appropriate action to make the syste stable. Uncertainity is the internal disturbances of the system where as the Disturbances are external to it. \n",
    "\n",
    "**iv) Efficiency**\n",
    "\n",
    "Effective sensor based feedback control is also much more efficient. Because we don't need to pump energy continously as in open loop control. Whenever sensor detect deviation only we need to pump energy to the system. This is more efficient way."
   ]
  },
  {
   "cell_type": "markdown",
   "metadata": {},
   "source": [
    "## State Space Analysis"
   ]
  },
  {
   "cell_type": "markdown",
   "metadata": {},
   "source": [
    "The basic system of equations we are going to use state space system of equations. "
   ]
  },
  {
   "cell_type": "markdown",
   "metadata": {},
   "source": [
    "\n",
    "We are going to have a state variable $x$. $x$ is a vector that describles all of the quantities of interests in my system. In case of pendulam, angular velocity and angle are quantities of interest.\n",
    "\n",
    "$$\\dot{x}=Ax$$"
   ]
  },
  {
   "cell_type": "markdown",
   "metadata": {},
   "source": [
    "We are going to start with a linear systems of equations that describe how those states will act with each other.\n",
    "\n",
    "$$\\dot x = Ax + Bu$$"
   ]
  },
  {
   "cell_type": "markdown",
   "metadata": {},
   "source": [
    "Here $u$ is the control we do to make the system stablise. Its just like a control knob. In case of controlling the motor speed we change the voltage input to the system. And $B$ tells you how the control knob that directly controls the time rate of change of my state. \n",
    "\n",
    "And in some cases we are going to measure only certain aspects of the state, some linear combination of the state of $X$. This is a limited set of measurements. We might not measure all of the states. We might only have access to those limited sensor measurements.\n",
    "\n",
    "$$y = Cx$$"
   ]
  },
  {
   "cell_type": "markdown",
   "metadata": {},
   "source": [
    "Here we are going to talk about only equation (1) for our analysis. Here we are going to design a controller $u = -Kx$.\n",
    "\n",
    "![State Space equations]()\n",
    "\n",
    "![State Space Analysis](./images/StateSpaceAnalysis.png)"
   ]
  },
  {
   "cell_type": "markdown",
   "metadata": {},
   "source": [
    "$$\\dot x = Ax+Bu \\quad (1)$$\n",
    "\n",
    "$$\\dot x = Ax - BKx$$\n",
    "\n",
    "$$\\dot x = (A-BK)x$$ "
   ]
  },
  {
   "cell_type": "markdown",
   "metadata": {},
   "source": [
    "Here we are going to look at how to analyse and solve the system of linear differential equations and also going to talk about how do u get this linear system of equation from non-linear system of equations."
   ]
  },
  {
   "cell_type": "markdown",
   "metadata": {},
   "source": [
    "Equation of a System \n",
    "$$ \\dot X = AX , \\quad X \\epsilon R^n $$"
   ]
  },
  {
   "cell_type": "markdown",
   "metadata": {},
   "source": [
    "Solution of the system\n",
    "$$X(t) = e^{At}X(0)$$"
   ]
  },
  {
   "cell_type": "markdown",
   "metadata": {},
   "source": [
    "Taylor series expansion of $e^At$:\n",
    "\n",
    "$$e^At = I + At+ \\frac{A^2t^2}{2!}+\\frac{A^3t^3}{3!}+...$$\n",
    "\n",
    "The above computation is not practical.\n",
    "\n",
    "Instead of the above computation, we use eigen values and eigen vectors of matrix $A$ to get a coordinate transformation from X to some eigen vector coordinates which will make easier."
   ]
  },
  {
   "cell_type": "markdown",
   "metadata": {},
   "source": [
    "Eigen values and Eigen Vectors:\n",
    "$$AE = \\lambda E$$\n",
    "where $E$ is eigen vector and $\\lambda$ is Eigen Value matrices.\n",
    "This is not true for any of the vector of E"
   ]
  },
  {
   "cell_type": "markdown",
   "metadata": {},
   "source": [
    "There are special vectors E if we multiply by A.\n",
    "\n",
    "$$T = \\begin{bmatrix}\\ E_1 & E_2 & E_3 & ...& E_n \\\\ \\end{bmatrix}$$\n",
    "\n",
    "$$D = \\begin{bmatrix}\\lambda_1 & 0 & ...&0 \\\\0 &\\lambda_2 & ... & 0 \\\\ \\vdots & \\vdots &\\ddots &\\vdots\\\\  0 & 0&... &\\lambda_n  \\end{bmatrix}$$"
   ]
  },
  {
   "cell_type": "markdown",
   "metadata": {},
   "source": [
    "There is a fundamental relation \n",
    "$$AT = TD$$"
   ]
  },
  {
   "cell_type": "markdown",
   "metadata": {},
   "source": [
    "Why do I want to represent my system in another coordinates?\n",
    "Instead of writing in X coordinates, I can rotate and map X into different cooridnates system to make it simpler\n",
    "$$ X = Tz$$"
   ]
  },
  {
   "cell_type": "markdown",
   "metadata": {},
   "source": [
    "we know \n",
    "$$T^{-1}AT = D$$\n",
    "$$\\dot X = T\\dot z = AX$$\n",
    "$$T\\dot z = ATz$$\n",
    "$$\\dot z = T^{-1}ATz$$\n",
    "$$\\dot z = Dz$$\n",
    "Solution of the above equation is\n",
    "$$z(t) = e^{Dt}*z(0)$$\n",
    "$$ A= TDT^{-1}$$\n",
    "It is simple to see the system dynamics if the system equation is broken down into eigen values and eigen vectors\n",
    "$$e^{At} = e^{TDT^{-1}} = TT^{-1}+TDT^{-1}+ (TDT^{-1}TDT^{-1})\\frac{t^2}{2!}+... = Te^{Dt}T^{-1}$$\n",
    "$$\\begin{equation}X(t) = Te^{Dt}T^{-1}X(0)\\end{equation}$$"
   ]
  }
 ],
 "metadata": {
  "kernelspec": {
   "display_name": "Python 3 (ipykernel)",
   "language": "python",
   "name": "python3"
  },
  "language_info": {
   "codemirror_mode": {
    "name": "ipython",
    "version": 3
   },
   "file_extension": ".py",
   "mimetype": "text/x-python",
   "name": "python",
   "nbconvert_exporter": "python",
   "pygments_lexer": "ipython3",
   "version": "3.11.3"
  }
 },
 "nbformat": 4,
 "nbformat_minor": 4
}
