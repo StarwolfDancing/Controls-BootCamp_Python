{
 "cells": [
  {
   "attachments": {},
   "cell_type": "markdown",
   "metadata": {},
   "source": [
    "# Control System Bootcamp - Video 4"
   ]
  },
  {
   "cell_type": "code",
   "execution_count": 1,
   "metadata": {
    "jupyter": {
     "source_hidden": true
    },
    "tags": []
   },
   "outputs": [
    {
     "data": {
      "text/html": [
       "\n",
       "<iframe width=\"560\" height=\"315\" src=\"https://www.youtube.com/embed/1YMTkELi3tE\" frameborder=\"0\" allow=\"autoplay; encrypted-media\" allowfullscreen></iframe>\n"
      ],
      "text/plain": [
       "<IPython.core.display.HTML object>"
      ]
     },
     "execution_count": 1,
     "metadata": {},
     "output_type": "execute_result"
    }
   ],
   "source": [
    "from IPython.display import HTML\n",
    "HTML(\"\"\"\n",
    "<iframe width=\"560\" height=\"315\" src=\"https://www.youtube.com/embed/1YMTkELi3tE\" frameborder=\"0\" allow=\"autoplay; encrypted-media\" allowfullscreen></iframe>\n",
    "\"\"\")"
   ]
  },
  {
   "attachments": {},
   "cell_type": "markdown",
   "metadata": {},
   "source": [
    "## Linearizing Around a Fixed Point\n",
    "\n",
    "If we have a non linear system of differential equations $\\dot x = f(x)$, how do we obtain a linear differential equation of the form $\\dot x = Ax$ from it?"
   ]
  },
  {
   "attachments": {},
   "cell_type": "markdown",
   "metadata": {},
   "source": [
    "1. Find fixed points: $\\bar x$ such that $f(\\bar x) = 0$\n",
    "\n",
    "Example: Inverted pendulum, if it is kept perfectly vertical, pendulum up or down position, they are fixed points where there is no relative motion of the pendulum.\n",
    "\n",
    "2. Linearize about $\\bar x$, by calculating matrix of partial differential equations or the [Jacobian](https://en.wikipedia.org/wiki/Jacobian_matrix_and_determinant) $\\frac{Df}{Dx} \\big|_{\\bar x}$\n",
    "\n",
    "\n",
    "\n",
    "For example, $\\dot {x_1} = f_1(x_1,x_2) = x_1x_2$ and, $\\dot {x_2} = f_2(x_1,x_2)={x_1}^2 + {x_2}^2$\n",
    "    \n",
    "$$\\frac{Df}{Dx} \\bigg|_{\\bar x} = \\begin{bmatrix}\\frac{\\partial f_1}{\\partial x_1} & \\frac{\\partial f_1}{\\partial x_2} \\\\\\frac{\\partial f_2}{\\partial x_2} & \\frac{\\partial f_2}{\\partial x_2} \\end{bmatrix} = \\begin{bmatrix} x_2 & x_1 \\\\ 2x_1 & 2x_2 \\end{bmatrix}$$\n",
    "\n",
    "$$\\frac{Df}{Dx}\\bigg|_{\\bar x} = \\bigg[\\frac{\\partial f_i}{\\partial x_j}\\bigg]$$    "
   ]
  },
  {
   "attachments": {},
   "cell_type": "markdown",
   "metadata": {},
   "source": [
    "Consider a non linear function of the form in the figure. Let $\\bar x$ be the fixed point. \n",
    "\n",
    "![Non linear func](./images/graph6.jpg)\n",
    "  \n",
    "Changing coordinate system so that origin is at $\\bar x$\n",
    "  \n",
    "Taylor series expansion, \n",
    "\n",
    "$$\\dot x = f(x) = f(\\bar x) + \\frac{Df}{Dx}\\bigg|_{\\bar x}(x-\\bar x)+ \\frac{D^2f}{D^2x}\\bigg|_{\\bar x}(x-\\bar x)^2 + ...$$\n",
    "  \n",
    "By definition, $f(\\bar x) = 0$ and larger terms are very small as $\\Delta x$ is very small. So what remains is,\n",
    "  \n",
    "$$\\dot x = f(x) = \\frac{Df}{Dx}\\bigg|_{\\bar x}(x-\\bar x)$$\n",
    "  \n",
    "Around the small window $\\Delta x$, the equation looks like:\n",
    "  \n",
    "$$\\Delta \\dot x = \\frac{Df}{Dx}\\bigg|_{\\bar x} \\Delta x$$\n",
    "\n",
    "So now, we can roughly write the system equation about $\\bar x$ or dynamics in small interval $\\Delta x$ near $\\bar x$ as\n",
    "\n",
    "$$\\boxed{\\Delta \\dot x = A\\Delta x}$$\n",
    "  \n",
    "If all the eigen values of the linearizaton have non zero real part, the linearization can describe the system in the neighbourhood $\\Delta x$. ([Hartman Grobman theorem](https://en.wikipedia.org/wiki/Hartman%E2%80%93Grobman_theorem)/Linearization theorem)\n",
    "  "
   ]
  },
  {
   "attachments": {},
   "cell_type": "markdown",
   "metadata": {},
   "source": [
    "## Example: [Pendulum](https://en.wikipedia.org/wiki/Pendulum_(mechanics))\n",
    "\n",
    "Equation of pendulum is given by: $\\ddot \\theta = \\frac{-g}{L} sin \\theta(t)$\n",
    "\n",
    "$L$ is the length of the pendulum, $m$ is mass.\n",
    "    \n",
    "![Pendulum image](./images/graph7.jpg)\n",
    "\n",
    "$\\theta = 0$, $\\theta = \\pi$ are the fixed points.\n",
    "\n",
    "Assuming [friction](https://en.wikipedia.org/wiki/Friction),\n",
    "\n",
    "$$\\ddot \\theta = \\frac{-g}{L} sin \\theta(t) - \\delta \\dot \\theta $$"
   ]
  },
  {
   "attachments": {},
   "cell_type": "markdown",
   "metadata": {},
   "source": [
    "For small angles $sin(\\theta) = \\theta$. Assuming $\\frac{g}{L}\\rightarrow 1$, bringing the equation to the form $\\dot x= f(x)$\n",
    "\n",
    "> $sin(\\theta) = \\theta$ is not used in the following equations, isn't it?\n",
    "\n",
    "$$\\begin{bmatrix} x_1 \\\\ x_2 \\end{bmatrix} = \\begin{bmatrix} \\theta \\\\ \\dot \\theta \\end{bmatrix}$$\n",
    "\n",
    "$$\\frac{d}{dt}\\begin{bmatrix} x_1 \\\\ x_2 \\end{bmatrix}= \\begin{bmatrix} x_2 \\\\ -sin x_1-\\delta x_2 \\end{bmatrix}$$\n",
    "\n",
    "Fixed points, $\\bar x = \\begin{bmatrix} 0 \\\\ 0 \\end{bmatrix}, \\begin{bmatrix} \\pi \\\\ 0 \\end{bmatrix}$\n",
    "\n",
    "Compute Jacobian and apply the fixed points: \n",
    "\n",
    "$$\\frac{Df}{Dx}= \\begin{bmatrix} 0 & 1 \\\\ -cos x_1 & -\\delta \\end{bmatrix}$$\n",
    "\n",
    "$$A_d =  \\begin{bmatrix} 0 & 1 \\\\ -1 & -\\delta \\end{bmatrix}$$\n",
    "\n",
    "$$A_u =  \\begin{bmatrix} 0 & 1 \\\\ 1 & -\\delta \\end{bmatrix}$$\n",
    "\n",
    "$$\\dot x =A_d x$$\n",
    "$$\\dot x = A_u x$$"
   ]
  },
  {
   "attachments": {},
   "cell_type": "markdown",
   "metadata": {},
   "source": [
    "Calculating eigen values of $A_d$ and $A_u$ (https://numpy.org/doc/stable/reference/generated/numpy.linalg.eig.html)"
   ]
  },
  {
   "cell_type": "code",
   "execution_count": 1,
   "metadata": {
    "tags": []
   },
   "outputs": [
    {
     "data": {
      "text/plain": [
       "(array([-0.05+0.9987j, -0.05-0.9987j]), array([ 0.9512, -1.0512]))"
      ]
     },
     "execution_count": 1,
     "metadata": {},
     "output_type": "execute_result"
    }
   ],
   "source": [
    "import numpy as np\n",
    "np.set_printoptions(precision=4)  # To fit the video\n",
    "\n",
    "d = 0.1\n",
    "\n",
    "A_d = np.array([[0, 1], [-1, -d]])\n",
    "A_u = np.array([[0, 1], [+1, -d]])\n",
    "\n",
    "Evals_d, _ = np.linalg.eig(A_d)  # Returns eigen values, vectors\n",
    "Evals_u, _ = np.linalg.eig(A_u)  # Returns eigen values, vectors\n",
    "Evals_d, Evals_u"
   ]
  },
  {
   "cell_type": "code",
   "execution_count": 2,
   "metadata": {
    "tags": []
   },
   "outputs": [
    {
     "name": "stdout",
     "output_type": "stream",
     "text": [
      "Eigen values of Ad:[-0.05+0.9987j -0.05-0.9987j]\n",
      "\n",
      "Eigen values of Au:[ 0.9512 -1.0512]\n"
     ]
    }
   ],
   "source": [
    "print(f\"Eigen values of Ad:{Evals_d}\\n\")\n",
    "print(f\"Eigen values of Au:{Evals_u}\")"
   ]
  },
  {
   "attachments": {},
   "cell_type": "markdown",
   "metadata": {},
   "source": [
    "$A_d$ has negative real parts for all eigen values, the system is stable at fixed point $\\begin{bmatrix}0\\\\0\\end{bmatrix}$.\n",
    "\n",
    "$A_u$ has a positive real part. So system is not stable at fixed point $\\begin{bmatrix}\\pi\\\\0\\end{bmatrix}$."
   ]
  }
 ],
 "metadata": {
  "celltoolbar": "Raw Cell Format",
  "kernelspec": {
   "display_name": "Python 3 (ipykernel)",
   "language": "python",
   "name": "python3"
  },
  "language_info": {
   "codemirror_mode": {
    "name": "ipython",
    "version": 3
   },
   "file_extension": ".py",
   "mimetype": "text/x-python",
   "name": "python",
   "nbconvert_exporter": "python",
   "pygments_lexer": "ipython3",
   "version": "3.11.3"
  }
 },
 "nbformat": 4,
 "nbformat_minor": 4
}
