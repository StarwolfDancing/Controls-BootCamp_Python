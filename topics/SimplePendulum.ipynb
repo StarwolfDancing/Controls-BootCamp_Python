{
 "cells": [
  {
   "cell_type": "markdown",
   "id": "f64a66be",
   "metadata": {},
   "source": [
    "# Simple Pendulum Example\n",
    "This section is a mixture of the sources below. \n",
    "\n",
    "- [Simple Pendulum with Python + Sympy - Logan Dihel (YouTube)](https://youtu.be/ZCzIoaGls4g)\n",
    "- [Pendulum Motion in PYTHON - Mr. P Solver (YouTube)](https://youtu.be/ENNyltVTJaE)\n",
    "- [Pendulum -- from Eric Weisstein's World of Physics](https://scienceworld.wolfram.com/physics/Pendulum.html)"
   ]
  },
  {
   "cell_type": "code",
   "execution_count": 1,
   "id": "4e686fcd",
   "metadata": {},
   "outputs": [],
   "source": [
    "import sympy as sp\n",
    "import sympy.physics.mechanics as sppm"
   ]
  },
  {
   "cell_type": "markdown",
   "id": "7680168c",
   "metadata": {},
   "source": [
    "## Symbols\n",
    "- [dynamicsymbols](https://docs.sympy.org/latest/modules/physics/vector/advanced.html#dynamicsymbols)"
   ]
  },
  {
   "cell_type": "code",
   "execution_count": 12,
   "id": "074e8315",
   "metadata": {},
   "outputs": [
    {
     "data": {
      "text/latex": [
       "$\\displaystyle \\Theta{\\left(t \\right)}$"
      ],
      "text/plain": [
       "\\Theta(t)"
      ]
     },
     "execution_count": 12,
     "metadata": {},
     "output_type": "execute_result"
    }
   ],
   "source": [
    "m, g, l= sp.symbols('m, g, l', real=True, positive=True)\n",
    "# `t` has to be defined as below, to include it in the definition above leads to wrong derivations below.\n",
    "t = sp.Symbol('t')\n",
    "Theta, xm, ym = sppm.dynamicsymbols('\\Theta, xm, ym')\n",
    "Theta"
   ]
  },
  {
   "cell_type": "markdown",
   "id": "2dfa10df",
   "metadata": {},
   "source": [
    "## Equations\n",
    "![<img src=\"../images/SimplePendulum.drawio.png\" width=\"50%\"](../images/SimplePendulum.drawio.png)"
   ]
  },
  {
   "cell_type": "code",
   "execution_count": 13,
   "id": "f0e3a195",
   "metadata": {},
   "outputs": [
    {
     "data": {
      "text/latex": [
       "$\\displaystyle \\left[\\begin{matrix}x_{m}\\\\y_{m}\\end{matrix}\\right] = \\left[\\begin{matrix}l \\sin{\\left(\\Theta{\\left(t \\right)} \\right)}\\\\- l \\cos{\\left(\\Theta{\\left(t \\right)} \\right)}\\end{matrix}\\right]$"
      ],
      "text/plain": [
       "Eq(Matrix([\n",
       "[x_m],\n",
       "[y_m]]), Matrix([\n",
       "[ l*sin(\\Theta(t))],\n",
       "[-l*cos(\\Theta(t))]]))"
      ]
     },
     "execution_count": 13,
     "metadata": {},
     "output_type": "execute_result"
    }
   ],
   "source": [
    "xm = l*sp.sin(Theta)\n",
    "ym = -l*sp.cos(Theta)\n",
    "sp.Eq(sp.Matrix(['x_m', 'y_m']), sp.Matrix([xm, ym]))"
   ]
  },
  {
   "cell_type": "code",
   "execution_count": 14,
   "id": "37cd97cf",
   "metadata": {},
   "outputs": [
    {
     "data": {
      "text/latex": [
       "$\\displaystyle \\left[\\begin{matrix}l \\cos{\\left(\\Theta{\\left(t \\right)} \\right)} \\frac{d}{d t} \\Theta{\\left(t \\right)}\\\\l \\sin{\\left(\\Theta{\\left(t \\right)} \\right)} \\frac{d}{d t} \\Theta{\\left(t \\right)}\\end{matrix}\\right]$"
      ],
      "text/plain": [
       "Matrix([\n",
       "[l*cos(\\Theta(t))*Derivative(\\Theta(t), t)],\n",
       "[l*sin(\\Theta(t))*Derivative(\\Theta(t), t)]])"
      ]
     },
     "execution_count": 14,
     "metadata": {},
     "output_type": "execute_result"
    }
   ],
   "source": [
    "sp.Matrix([xm.diff(t), ym.diff(t)])"
   ]
  },
  {
   "cell_type": "code",
   "execution_count": 15,
   "id": "a30dcee5",
   "metadata": {},
   "outputs": [
    {
     "data": {
      "text/latex": [
       "$\\displaystyle \\frac{d^{2}}{d t^{2}} \\Theta{\\left(t \\right)}$"
      ],
      "text/plain": [
       "Derivative(\\Theta(t), (t, 2))"
      ]
     },
     "execution_count": 15,
     "metadata": {},
     "output_type": "execute_result"
    }
   ],
   "source": [
    "Theta.diff(t, 2)"
   ]
  },
  {
   "cell_type": "markdown",
   "id": "defd5540",
   "metadata": {},
   "source": [
    "## Lagrangian"
   ]
  },
  {
   "cell_type": "code",
   "execution_count": 16,
   "id": "99b823c2",
   "metadata": {},
   "outputs": [
    {
     "data": {
      "text/latex": [
       "$\\displaystyle g l m \\cos{\\left(\\Theta{\\left(t \\right)} \\right)} + \\frac{m \\left(l^{2} \\sin^{2}{\\left(\\Theta{\\left(t \\right)} \\right)} \\left(\\frac{d}{d t} \\Theta{\\left(t \\right)}\\right)^{2} + l^{2} \\cos^{2}{\\left(\\Theta{\\left(t \\right)} \\right)} \\left(\\frac{d}{d t} \\Theta{\\left(t \\right)}\\right)^{2}\\right)}{2}$"
      ],
      "text/plain": [
       "g*l*m*cos(\\Theta(t)) + m*(l**2*sin(\\Theta(t))**2*Derivative(\\Theta(t), t)**2 + l**2*cos(\\Theta(t))**2*Derivative(\\Theta(t), t)**2)/2"
      ]
     },
     "execution_count": 16,
     "metadata": {},
     "output_type": "execute_result"
    }
   ],
   "source": [
    "T = m/2*(xm.diff(t)**2 + ym.diff(t)**2)\n",
    "V = m*g*ym\n",
    "L = T - V\n",
    "L"
   ]
  },
  {
   "cell_type": "markdown",
   "id": "451e5481",
   "metadata": {},
   "source": [
    "## [Euler-Lagrange equation (Lagrange's equations of the second kind) - Wikipedia](https://en.wikipedia.org/wiki/Lagrangian_mechanics#Lagrangian)\n",
    "\n",
    "$$\n",
    "\\boxed{\\frac{d}{dt} \\left(\\frac{\\partial L}{\\partial \\dot\\Theta}\\right) - \\frac{\\partial L}{\\partial \\Theta} = 0}\n",
    "$$"
   ]
  },
  {
   "cell_type": "code",
   "execution_count": 17,
   "id": "cb4946f6",
   "metadata": {},
   "outputs": [
    {
     "data": {
      "text/latex": [
       "$\\displaystyle g l m \\sin{\\left(\\Theta{\\left(t \\right)} \\right)} + \\frac{m \\left(2 l^{2} \\sin^{2}{\\left(\\Theta{\\left(t \\right)} \\right)} \\frac{d^{2}}{d t^{2}} \\Theta{\\left(t \\right)} + 2 l^{2} \\cos^{2}{\\left(\\Theta{\\left(t \\right)} \\right)} \\frac{d^{2}}{d t^{2}} \\Theta{\\left(t \\right)}\\right)}{2}$"
      ],
      "text/plain": [
       "g*l*m*sin(\\Theta(t)) + m*(2*l**2*sin(\\Theta(t))**2*Derivative(\\Theta(t), (t, 2)) + 2*l**2*cos(\\Theta(t))**2*Derivative(\\Theta(t), (t, 2)))/2"
      ]
     },
     "execution_count": 17,
     "metadata": {},
     "output_type": "execute_result"
    }
   ],
   "source": [
    "LE = sp.diff(sp.diff(L, Theta.diff(t)), t) - sp.diff(L, Theta)\n",
    "LE"
   ]
  },
  {
   "cell_type": "code",
   "execution_count": 18,
   "id": "a111c59b",
   "metadata": {},
   "outputs": [
    {
     "data": {
      "text/latex": [
       "$\\displaystyle l m \\left(g \\sin{\\left(\\Theta{\\left(t \\right)} \\right)} + l \\frac{d^{2}}{d t^{2}} \\Theta{\\left(t \\right)}\\right)$"
      ],
      "text/plain": [
       "l*m*(g*sin(\\Theta(t)) + l*Derivative(\\Theta(t), (t, 2)))"
      ]
     },
     "execution_count": 18,
     "metadata": {},
     "output_type": "execute_result"
    }
   ],
   "source": [
    "LE = LE.simplify()\n",
    "LE"
   ]
  },
  {
   "cell_type": "code",
   "execution_count": 23,
   "id": "0b13aaa0",
   "metadata": {},
   "outputs": [
    {
     "data": {
      "text/latex": [
       "$\\displaystyle \\frac{d^{2}}{d t^{2}} \\Theta{\\left(t \\right)} = - \\frac{g \\sin{\\left(\\Theta{\\left(t \\right)} \\right)}}{l}$"
      ],
      "text/plain": [
       "Eq(Derivative(\\Theta(t), (t, 2)), -g*sin(\\Theta(t))/l)"
      ]
     },
     "execution_count": 23,
     "metadata": {},
     "output_type": "execute_result"
    }
   ],
   "source": [
    "sln = sp.solve(LE, Theta.diff(t, 2))[0]  # Only one solution\n",
    "ODE = sp.Eq(Theta.diff(t, 2), sln)\n",
    "ODE"
   ]
  },
  {
   "cell_type": "code",
   "execution_count": 28,
   "id": "c3bf5f3b",
   "metadata": {},
   "outputs": [
    {
     "data": {
      "text/latex": [
       "$\\displaystyle l \\sin{\\left(\\Theta{\\left(t \\right)} \\right)}$"
      ],
      "text/plain": [
       "l*sin(\\Theta(t))"
      ]
     },
     "execution_count": 28,
     "metadata": {},
     "output_type": "execute_result"
    }
   ],
   "source": [
    "xm"
   ]
  },
  {
   "cell_type": "code",
   "execution_count": 30,
   "id": "a456ac2e",
   "metadata": {},
   "outputs": [
    {
     "data": {
      "text/plain": [
       "[0, pi]"
      ]
     },
     "execution_count": 30,
     "metadata": {},
     "output_type": "execute_result"
    }
   ],
   "source": [
    "sp.solve(xm, Theta)"
   ]
  },
  {
   "cell_type": "code",
   "execution_count": 25,
   "id": "203c727c",
   "metadata": {},
   "outputs": [
    {
     "data": {
      "text/latex": [
       "$\\displaystyle \\frac{\\sqrt{g}}{\\sqrt{l}}$"
      ],
      "text/plain": [
       "sqrt(g)/sqrt(l)"
      ]
     },
     "execution_count": 25,
     "metadata": {},
     "output_type": "execute_result"
    }
   ],
   "source": [
    "omega0 = sp.Symbol(\"\\omega_0\")\n",
    "omega0 = sp.sqrt(g/l)\n",
    "omega0"
   ]
  },
  {
   "cell_type": "markdown",
   "id": "41c0c5a7",
   "metadata": {},
   "source": [
    "## [Solve an Ordinary Differential Equation (ODE) Algebraically - SymPy](https://docs.sympy.org/latest/guides/solving/solve-ode.html)\n",
    "\n",
    "- [Ordinary Differential Equations - SymPy Tutorial 10 - TM Quest (YouTube)](https://youtu.be/Z2havWsxa-E)\n",
    "\n",
    "**ODE**\n",
    "\n",
    "$\\ddot\\Theta = -\\frac{g sin(\\Theta(t))}{l}$ with initial conditions: $\\ddot\\Theta (0) = 0$, $\\Theta (0) = \\pi / 10$\n",
    "\n",
    "Trying to solve the ODE ($g = 9.81 [m/s^2]$ and  $l = 1 [m]$):\n",
    "\n",
    "`sp.dsolve(ODE.subs({g: 9.81, l: 1}), Theta)` $\\rightarrow$ `RecursionError: maximum recursion depth exceeded`. Well, it is a nonlinear equation."
   ]
  },
  {
   "cell_type": "code",
   "execution_count": 21,
   "id": "95ca4157",
   "metadata": {},
   "outputs": [],
   "source": [
    "# sp.dsolve(ODE.subs({g: 9.81, l: 1}), Theta)"
   ]
  },
  {
   "cell_type": "markdown",
   "id": "1b76af44",
   "metadata": {},
   "source": [
    "## [Solve an Ordinary Differential Equation (ODE) Numerically](https://docs.sympy.org/latest/guides/solving/solve-ode.html#numerically-solve-an-ode-in-scipy)"
   ]
  },
  {
   "cell_type": "code",
   "execution_count": 22,
   "id": "0c404ef2",
   "metadata": {},
   "outputs": [],
   "source": [
    "import scipy.integrate\n",
    "import numpy as np\n",
    "import matplotlib.pyplot as plt"
   ]
  },
  {
   "cell_type": "markdown",
   "id": "702ac783",
   "metadata": {},
   "source": [
    "## Animate Solution\n"
   ]
  }
 ],
 "metadata": {
  "kernelspec": {
   "display_name": "Python 3 (ipykernel)",
   "language": "python",
   "name": "python3"
  },
  "language_info": {
   "codemirror_mode": {
    "name": "ipython",
    "version": 3
   },
   "file_extension": ".py",
   "mimetype": "text/x-python",
   "name": "python",
   "nbconvert_exporter": "python",
   "pygments_lexer": "ipython3",
   "version": "3.11.7"
  }
 },
 "nbformat": 4,
 "nbformat_minor": 5
}
