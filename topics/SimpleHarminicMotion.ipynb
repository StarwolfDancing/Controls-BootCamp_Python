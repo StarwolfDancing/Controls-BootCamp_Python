{
 "cells": [
  {
   "cell_type": "markdown",
   "metadata": {},
   "source": [
    "# Simple Harmonic Motion\n",
    "Example to apply [SymPy](https://www.sympy.org/en/index.html) and the procedures in [Solve an Ordinary Differential Equation (ODE) Numerically](https://docs.sympy.org/latest/guides/solving/solve-ode.html#numerically-solve-an-ode-in-scipy).\n",
    "\n",
    "- [Simple harmonic motion - Wikipedia](https://en.wikipedia.org/wiki/Simple_harmonic_motion)\n",
    "- [Ordinary Differential Equations - SymPy Tutorial 10 - TM Quest](https://www.youtube.com/watch?v=Z2havWsxa-E&list=PLSE7WKf_qqo1T5VV1nqXTj2iNiSpFk72T)\n",
    "- [Prerequisites and objectives — Scientific Python: a collection of science oriented python examples documentation](https://scientific-python.readthedocs.io/en/latest/notebooks_rst/3_Ordinary_Differential_Equations/00_Support_Material/00_ODE.html#ordinary-differential-equations-ode)"
   ]
  },
  {
   "cell_type": "code",
   "execution_count": 1,
   "metadata": {},
   "outputs": [],
   "source": [
    "import sympy as sp"
   ]
  },
  {
   "cell_type": "code",
   "execution_count": 2,
   "metadata": {},
   "outputs": [],
   "source": [
    "t, k, m = sp.symbols(\"t, k, m\", real=True, positive=True)\n",
    "x = sp.Function('x')(t)"
   ]
  },
  {
   "cell_type": "code",
   "execution_count": 3,
   "metadata": {},
   "outputs": [
    {
     "data": {
      "text/latex": [
       "$\\displaystyle \\frac{d^{2}}{d t^{2}} x{\\left(t \\right)} = - \\frac{k x{\\left(t \\right)}}{m}$"
      ],
      "text/plain": [
       "Eq(Derivative(x(t), (t, 2)), -k*x(t)/m)"
      ]
     },
     "execution_count": 3,
     "metadata": {},
     "output_type": "execute_result"
    }
   ],
   "source": [
    "ODE = sp.Eq(lhs=x.diff(t, 2), rhs=-k/m * x)\n",
    "ODE"
   ]
  },
  {
   "cell_type": "code",
   "execution_count": 4,
   "metadata": {},
   "outputs": [
    {
     "data": {
      "text/latex": [
       "$\\displaystyle x{\\left(t \\right)} = C_{1} \\sin{\\left(\\frac{\\sqrt{k} t}{\\sqrt{m}} \\right)} + C_{2} \\cos{\\left(\\frac{\\sqrt{k} t}{\\sqrt{m}} \\right)}$"
      ],
      "text/plain": [
       "Eq(x(t), C1*sin(sqrt(k)*t/sqrt(m)) + C2*cos(sqrt(k)*t/sqrt(m)))"
      ]
     },
     "execution_count": 4,
     "metadata": {},
     "output_type": "execute_result"
    }
   ],
   "source": [
    "shm = sp.dsolve(ODE)\n",
    "shm"
   ]
  },
  {
   "cell_type": "code",
   "execution_count": 5,
   "metadata": {},
   "outputs": [
    {
     "data": {
      "text/plain": [
       "{C1, C2, k, m, t}"
      ]
     },
     "execution_count": 5,
     "metadata": {},
     "output_type": "execute_result"
    }
   ],
   "source": [
    "shm.free_symbols"
   ]
  },
  {
   "cell_type": "code",
   "execution_count": 6,
   "metadata": {},
   "outputs": [
    {
     "data": {
      "text/latex": [
       "$\\displaystyle x{\\left(t \\right)} = \\sqrt{2} \\sin{\\left(\\frac{\\sqrt{k} t}{\\sqrt{m}} + \\frac{\\pi}{4} \\right)}$"
      ],
      "text/plain": [
       "Eq(x(t), sqrt(2)*sin(sqrt(k)*t/sqrt(m) + pi/4))"
      ]
     },
     "execution_count": 6,
     "metadata": {},
     "output_type": "execute_result"
    }
   ],
   "source": [
    "# Setting m, k does not work here, even though they are listed as free symbols.\n",
    "set_fs = {\"C1\": 1, \"C2\": 1, 'm': 1, 'k': 1}\n",
    "simple_shm = shm.subs(set_fs).simplify()\n",
    "simple_shm"
   ]
  },
  {
   "cell_type": "code",
   "execution_count": null,
   "metadata": {},
   "outputs": [],
   "source": []
  }
 ],
 "metadata": {
  "kernelspec": {
   "display_name": "Python 3",
   "language": "python",
   "name": "python3"
  },
  "language_info": {
   "codemirror_mode": {
    "name": "ipython",
    "version": 3
   },
   "file_extension": ".py",
   "mimetype": "text/x-python",
   "name": "python",
   "nbconvert_exporter": "python",
   "pygments_lexer": "ipython3",
   "version": "3.11.7"
  }
 },
 "nbformat": 4,
 "nbformat_minor": 2
}
