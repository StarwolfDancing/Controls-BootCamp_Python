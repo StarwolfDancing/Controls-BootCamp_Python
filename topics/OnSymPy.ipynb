{
 "cells": [
  {
   "cell_type": "markdown",
   "id": "fcf86a49-0fb4-469c-866f-945852c91215",
   "metadata": {},
   "source": [
    "# On SymPy\n",
    "- [SymPy](https://www.sympy.org/en/index.html)\n",
    "- [SymPy Tutorial - TM Quest (YouTube)](https://youtube.com/playlist?list=PLSE7WKf_qqo1T5VV1nqXTj2iNiSpFk72T)"
   ]
  },
  {
   "cell_type": "code",
   "execution_count": 1,
   "id": "22a4203e-87ff-4db2-8ca1-7d734e46f34f",
   "metadata": {},
   "outputs": [],
   "source": [
    "import sympy as sp"
   ]
  },
  {
   "cell_type": "markdown",
   "id": "ca4e6b7d",
   "metadata": {},
   "source": [
    "## Basics"
   ]
  },
  {
   "cell_type": "code",
   "execution_count": 2,
   "id": "0d49689a-4f59-4913-aaef-3cff9a2ec28d",
   "metadata": {},
   "outputs": [
    {
     "data": {
      "text/latex": [
       "$\\displaystyle t^{2} x - x$"
      ],
      "text/plain": [
       "t**2*x - x"
      ]
     },
     "execution_count": 2,
     "metadata": {},
     "output_type": "execute_result"
    }
   ],
   "source": [
    "x, t = sp.symbols(\"x, t\")\n",
    "e1 = x * t**2 - x\n",
    "e1"
   ]
  },
  {
   "cell_type": "code",
   "execution_count": 3,
   "id": "f80259b1-0a56-497a-85e5-7e35c3a6e81b",
   "metadata": {},
   "outputs": [
    {
     "data": {
      "text/latex": [
       "$\\displaystyle x \\left(t - 1\\right) \\left(t + 1\\right)$"
      ],
      "text/plain": [
       "x*(t - 1)*(t + 1)"
      ]
     },
     "execution_count": 3,
     "metadata": {},
     "output_type": "execute_result"
    }
   ],
   "source": [
    "e1.factor()"
   ]
  },
  {
   "cell_type": "code",
   "execution_count": 4,
   "id": "2d67d0dd-04b1-4699-8c14-14c3d67fa2c3",
   "metadata": {},
   "outputs": [
    {
     "data": {
      "text/latex": [
       "$\\displaystyle t^{2} - 1$"
      ],
      "text/plain": [
       "t**2 - 1"
      ]
     },
     "execution_count": 4,
     "metadata": {},
     "output_type": "execute_result"
    }
   ],
   "source": [
    "e1.diff(x)"
   ]
  },
  {
   "cell_type": "code",
   "execution_count": 5,
   "id": "1252a432-0230-4a90-a43b-af326d88ae97",
   "metadata": {},
   "outputs": [
    {
     "data": {
      "text/latex": [
       "$\\displaystyle \\Phi_{1}$"
      ],
      "text/plain": [
       "\\Phi_1"
      ]
     },
     "execution_count": 5,
     "metadata": {},
     "output_type": "execute_result"
    }
   ],
   "source": [
    "Phi1, alpha1 = sp.symbols(\"\\Phi_1, \\\\alpha_1\")\n",
    "Phi1"
   ]
  },
  {
   "cell_type": "code",
   "execution_count": 6,
   "id": "e151230f",
   "metadata": {},
   "outputs": [
    {
     "data": {
      "text/latex": [
       "$\\displaystyle \\alpha_{1}$"
      ],
      "text/plain": [
       "\\alpha_1"
      ]
     },
     "execution_count": 6,
     "metadata": {},
     "output_type": "execute_result"
    }
   ],
   "source": [
    "alpha1"
   ]
  },
  {
   "cell_type": "code",
   "execution_count": 7,
   "id": "e7ea5a17-5bb4-4db1-92f2-bf8c42b35ba4",
   "metadata": {},
   "outputs": [
    {
     "data": {
      "text/latex": [
       "$\\displaystyle \\cos{\\left(\\Phi_{1} \\right)} \\tan{\\left(\\alpha_{1} \\right)}$"
      ],
      "text/plain": [
       "cos(\\Phi_1)*tan(\\alpha_1)"
      ]
     },
     "execution_count": 7,
     "metadata": {},
     "output_type": "execute_result"
    }
   ],
   "source": [
    "sp.sin(Phi1).diff(Phi1) * sp.tan(alpha1)"
   ]
  },
  {
   "cell_type": "code",
   "execution_count": 8,
   "id": "f3cf4fd7-9325-47d2-b12c-f8661a0b61ea",
   "metadata": {},
   "outputs": [
    {
     "data": {
      "text/latex": [
       "$\\displaystyle \\left[\\begin{matrix}\\Theta_{0}\\\\\\Theta_{1}\\\\\\Theta_{2}\\end{matrix}\\right]$"
      ],
      "text/plain": [
       "Matrix([\n",
       "[\\Theta_0],\n",
       "[\\Theta_1],\n",
       "[\\Theta_2]])"
      ]
     },
     "execution_count": 8,
     "metadata": {},
     "output_type": "execute_result"
    }
   ],
   "source": [
    "theta = sp.symbols(\"\\Theta_0:3\")\n",
    "sp.Matrix(theta)"
   ]
  },
  {
   "cell_type": "code",
   "execution_count": 9,
   "id": "4106577b-36be-4134-aff8-96c9907bff00",
   "metadata": {},
   "outputs": [
    {
     "data": {
      "text/latex": [
       "$\\displaystyle \\infty$"
      ],
      "text/plain": [
       "oo"
      ]
     },
     "execution_count": 9,
     "metadata": {},
     "output_type": "execute_result"
    }
   ],
   "source": [
    "sp.oo"
   ]
  },
  {
   "cell_type": "code",
   "execution_count": 10,
   "id": "4104de9f-37a5-4b00-a2ae-4068482510d5",
   "metadata": {},
   "outputs": [
    {
     "data": {
      "text/latex": [
       "$\\displaystyle i$"
      ],
      "text/plain": [
       "I"
      ]
     },
     "execution_count": 10,
     "metadata": {},
     "output_type": "execute_result"
    }
   ],
   "source": [
    "sp.I"
   ]
  },
  {
   "cell_type": "code",
   "execution_count": 11,
   "id": "70bd3f15",
   "metadata": {},
   "outputs": [],
   "source": [
    "t, x, l = sp.symbols(\"t, x, l\")"
   ]
  },
  {
   "cell_type": "code",
   "execution_count": 12,
   "id": "f5394bc3",
   "metadata": {},
   "outputs": [
    {
     "data": {
      "text/latex": [
       "$\\displaystyle x = l \\sin{\\left(t \\right)}$"
      ],
      "text/plain": [
       "Eq(x, l*sin(t))"
      ]
     },
     "execution_count": 12,
     "metadata": {},
     "output_type": "execute_result"
    }
   ],
   "source": [
    "e2 = sp.Eq(x, l*sp.sin(t))\n",
    "e2"
   ]
  },
  {
   "cell_type": "code",
   "execution_count": 13,
   "id": "4bcd48c2",
   "metadata": {},
   "outputs": [
    {
     "data": {
      "text/plain": [
       "[pi - asin(x/l), asin(x/l)]"
      ]
     },
     "execution_count": 13,
     "metadata": {},
     "output_type": "execute_result"
    }
   ],
   "source": [
    "sp.solve(e2, t)"
   ]
  },
  {
   "cell_type": "code",
   "execution_count": 14,
   "id": "dc62000b",
   "metadata": {},
   "outputs": [
    {
     "data": {
      "text/latex": [
       "$\\displaystyle \\left\\{t\\; \\middle|\\; t \\in \\mathbb{R} \\wedge \\sin{\\left(t \\right)} - \\frac{x}{l} = 0 \\right\\}$"
      ],
      "text/plain": [
       "ConditionSet(t, Eq(sin(t) - x/l, 0), Reals)"
      ]
     },
     "execution_count": 14,
     "metadata": {},
     "output_type": "execute_result"
    }
   ],
   "source": [
    "sp.solveset(e2, t)"
   ]
  },
  {
   "cell_type": "code",
   "execution_count": 15,
   "id": "e60d8a76",
   "metadata": {},
   "outputs": [
    {
     "data": {
      "text/latex": [
       "$\\displaystyle 2 t x$"
      ],
      "text/plain": [
       "2*t*x"
      ]
     },
     "execution_count": 15,
     "metadata": {},
     "output_type": "execute_result"
    }
   ],
   "source": [
    "sp.diff(e1, t)"
   ]
  },
  {
   "cell_type": "markdown",
   "id": "54d35ccf",
   "metadata": {},
   "source": [
    "## Example (Free fall)\n",
    "- [Free fall - Wikipedia](https://en.wikipedia.org/wiki/Free_fall)\n",
    "\n",
    "$$ v(t) = \\frac{d}{dt} y(t) $$\n",
    "$$ a(t) = \\frac{d}{dt} v(t) = \\frac{d^2}{dt^2} y(t) $$"
   ]
  },
  {
   "cell_type": "code",
   "execution_count": 16,
   "id": "06cecd12",
   "metadata": {},
   "outputs": [
    {
     "data": {
      "text/latex": [
       "$\\displaystyle y{\\left(t \\right)}$"
      ],
      "text/plain": [
       "y(t)"
      ]
     },
     "execution_count": 16,
     "metadata": {},
     "output_type": "execute_result"
    }
   ],
   "source": [
    "a, y = sp.symbols('a, y')\n",
    "y = sp.Function(y)(t)\n",
    "y"
   ]
  },
  {
   "cell_type": "code",
   "execution_count": 17,
   "id": "456bc009",
   "metadata": {},
   "outputs": [
    {
     "data": {
      "text/latex": [
       "$\\displaystyle a = \\frac{d^{2}}{d t^{2}} y{\\left(t \\right)}$"
      ],
      "text/plain": [
       "Eq(a, Derivative(y(t), (t, 2)))"
      ]
     },
     "execution_count": 17,
     "metadata": {},
     "output_type": "execute_result"
    }
   ],
   "source": [
    "ff = sp.Eq(a, sp.diff(y, t, 2))\n",
    "ff"
   ]
  },
  {
   "cell_type": "code",
   "execution_count": 18,
   "id": "22f22598",
   "metadata": {},
   "outputs": [
    {
     "data": {
      "text/latex": [
       "$\\displaystyle y{\\left(t \\right)} = C_{1} + C_{2} t + \\frac{a t^{2}}{2}$"
      ],
      "text/plain": [
       "Eq(y(t), C1 + C2*t + a*t**2/2)"
      ]
     },
     "execution_count": 18,
     "metadata": {},
     "output_type": "execute_result"
    }
   ],
   "source": [
    "ff_sol = sp.dsolve(ff, y)\n",
    "ff_sol"
   ]
  },
  {
   "cell_type": "code",
   "execution_count": 19,
   "id": "62c60df0",
   "metadata": {},
   "outputs": [
    {
     "data": {
      "text/plain": [
       "{C1, C2, a, t}"
      ]
     },
     "execution_count": 19,
     "metadata": {},
     "output_type": "execute_result"
    }
   ],
   "source": [
    "ff_sol.free_symbols"
   ]
  },
  {
   "cell_type": "code",
   "execution_count": 20,
   "id": "36bb4a0e",
   "metadata": {},
   "outputs": [
    {
     "data": {
      "text/latex": [
       "$\\displaystyle y{\\left(t \\right)} = 4.905 t^{2}$"
      ],
      "text/plain": [
       "Eq(y(t), 4.905*t**2)"
      ]
     },
     "execution_count": 20,
     "metadata": {},
     "output_type": "execute_result"
    }
   ],
   "source": [
    "ff_sol_sub = ff_sol.subs({\"C1\": 0, \"C2\": 0, a: 9.81})\n",
    "ff_sol_sub"
   ]
  },
  {
   "cell_type": "code",
   "execution_count": 21,
   "id": "583e7254",
   "metadata": {},
   "outputs": [],
   "source": [
    "ff_lam = sp.lambdify(t, ff_sol_sub.rhs)"
   ]
  },
  {
   "cell_type": "code",
   "execution_count": 22,
   "id": "ca48bd5b",
   "metadata": {},
   "outputs": [],
   "source": [
    "import numpy as np\n",
    "import matplotlib.pyplot as plt"
   ]
  },
  {
   "cell_type": "code",
   "execution_count": 23,
   "id": "f1fc5ca4",
   "metadata": {},
   "outputs": [
    {
     "data": {
      "text/plain": [
       "array([0. , 0.1, 0.2, 0.3, 0.4, 0.5, 0.6, 0.7, 0.8, 0.9, 1. , 1.1, 1.2,\n",
       "       1.3, 1.4, 1.5, 1.6, 1.7, 1.8, 1.9, 2. , 2.1, 2.2, 2.3, 2.4, 2.5,\n",
       "       2.6, 2.7, 2.8, 2.9, 3. ])"
      ]
     },
     "execution_count": 23,
     "metadata": {},
     "output_type": "execute_result"
    }
   ],
   "source": [
    "tff = np.arange(0, 3.1, 0.1)\n",
    "tff"
   ]
  },
  {
   "cell_type": "code",
   "execution_count": 24,
   "id": "e82906d1",
   "metadata": {},
   "outputs": [],
   "source": [
    "yff = ff_lam(t=tff)"
   ]
  },
  {
   "cell_type": "code",
   "execution_count": 25,
   "id": "f2fc11f8",
   "metadata": {},
   "outputs": [
    {
     "data": {
      "image/png": "[encoded data removed]",
      "text/plain": [
       "<Figure size 640x480 with 1 Axes>"
      ]
     },
     "metadata": {},
     "output_type": "display_data"
    }
   ],
   "source": [
    "plt.plot(tff, yff, '.')\n",
    "plt.grid()\n",
    "plt.title(\"Free fall distance ($g=9.81 m/s²$)\")\n",
    "plt.xlabel(\"$t \\, [s]$\")\n",
    "plt.ylabel(\"$y \\, [m]$\");"
   ]
  },
  {
   "cell_type": "code",
   "execution_count": null,
   "id": "ce807b7c",
   "metadata": {},
   "outputs": [],
   "source": []
  }
 ],
 "metadata": {
  "kernelspec": {
   "display_name": "Python 3 (ipykernel)",
   "language": "python",
   "name": "python3"
  },
  "language_info": {
   "codemirror_mode": {
    "name": "ipython",
    "version": 3
   },
   "file_extension": ".py",
   "mimetype": "text/x-python",
   "name": "python",
   "nbconvert_exporter": "python",
   "pygments_lexer": "ipython3",
   "version": "3.11.7"
  }
 },
 "nbformat": 4,
 "nbformat_minor": 5
}
