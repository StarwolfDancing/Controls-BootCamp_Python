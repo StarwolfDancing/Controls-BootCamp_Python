{
 "cells": [
  {
   "cell_type": "markdown",
   "id": "fcf86a49-0fb4-469c-866f-945852c91215",
   "metadata": {},
   "source": [
    "# On SymPy\n",
    "1. [SymPy](https://www.sympy.org/en/index.html)"
   ]
  },
  {
   "cell_type": "code",
   "execution_count": 1,
   "id": "22a4203e-87ff-4db2-8ca1-7d734e46f34f",
   "metadata": {},
   "outputs": [],
   "source": [
    "import sympy as sp"
   ]
  },
  {
   "cell_type": "markdown",
   "id": "c8d39d2f",
   "metadata": {},
   "source": [
    "## Basics\n",
    "2. [SymPy Tutorial - TM Quest (YouTube)](https://youtube.com/playlist?list=PLSE7WKf_qqo1T5VV1nqXTj2iNiSpFk72T)"
   ]
  },
  {
   "cell_type": "code",
   "execution_count": 2,
   "id": "0d49689a-4f59-4913-aaef-3cff9a2ec28d",
   "metadata": {},
   "outputs": [
    {
     "data": {
      "text/latex": [
       "$\\displaystyle t^{2} x - x$"
      ],
      "text/plain": [
       "t**2*x - x"
      ]
     },
     "execution_count": 2,
     "metadata": {},
     "output_type": "execute_result"
    }
   ],
   "source": [
    "x, t = sp.symbols(\"x, t\")\n",
    "e1 = x * t**2 - x\n",
    "e1"
   ]
  },
  {
   "cell_type": "code",
   "execution_count": 3,
   "id": "f80259b1-0a56-497a-85e5-7e35c3a6e81b",
   "metadata": {},
   "outputs": [
    {
     "data": {
      "text/latex": [
       "$\\displaystyle x \\left(t - 1\\right) \\left(t + 1\\right)$"
      ],
      "text/plain": [
       "x*(t - 1)*(t + 1)"
      ]
     },
     "execution_count": 3,
     "metadata": {},
     "output_type": "execute_result"
    }
   ],
   "source": [
    "e1.factor()"
   ]
  },
  {
   "cell_type": "code",
   "execution_count": 4,
   "id": "2d67d0dd-04b1-4699-8c14-14c3d67fa2c3",
   "metadata": {},
   "outputs": [
    {
     "data": {
      "text/latex": [
       "$\\displaystyle t^{2} - 1$"
      ],
      "text/plain": [
       "t**2 - 1"
      ]
     },
     "execution_count": 4,
     "metadata": {},
     "output_type": "execute_result"
    }
   ],
   "source": [
    "e1.diff(x)"
   ]
  },
  {
   "cell_type": "code",
   "execution_count": 5,
   "id": "1252a432-0230-4a90-a43b-af326d88ae97",
   "metadata": {},
   "outputs": [
    {
     "data": {
      "text/latex": [
       "$\\displaystyle \\Phi_{1}$"
      ],
      "text/plain": [
       "\\Phi_1"
      ]
     },
     "execution_count": 5,
     "metadata": {},
     "output_type": "execute_result"
    }
   ],
   "source": [
    "Phi1, alpha1 = sp.symbols(\"\\Phi_1, \\\\alpha_1\")\n",
    "Phi1"
   ]
  },
  {
   "cell_type": "code",
   "execution_count": 6,
   "id": "e151230f",
   "metadata": {},
   "outputs": [
    {
     "data": {
      "text/latex": [
       "$\\displaystyle \\alpha_{1}$"
      ],
      "text/plain": [
       "\\alpha_1"
      ]
     },
     "execution_count": 6,
     "metadata": {},
     "output_type": "execute_result"
    }
   ],
   "source": [
    "alpha1"
   ]
  },
  {
   "cell_type": "code",
   "execution_count": 7,
   "id": "e7ea5a17-5bb4-4db1-92f2-bf8c42b35ba4",
   "metadata": {},
   "outputs": [
    {
     "data": {
      "text/latex": [
       "$\\displaystyle \\cos{\\left(\\Phi_{1} \\right)}$"
      ],
      "text/plain": [
       "cos(\\Phi_1)"
      ]
     },
     "execution_count": 7,
     "metadata": {},
     "output_type": "execute_result"
    }
   ],
   "source": [
    "sp.sin(Phi1).diff(Phi1)"
   ]
  },
  {
   "cell_type": "code",
   "execution_count": 8,
   "id": "f3cf4fd7-9325-47d2-b12c-f8661a0b61ea",
   "metadata": {},
   "outputs": [
    {
     "data": {
      "text/latex": [
       "$\\displaystyle \\Theta_{1}$"
      ],
      "text/plain": [
       "\\Theta_1"
      ]
     },
     "execution_count": 8,
     "metadata": {},
     "output_type": "execute_result"
    }
   ],
   "source": [
    "theta = sp.symbols(\"\\Theta_0:3\")\n",
    "theta[1]"
   ]
  },
  {
   "cell_type": "code",
   "execution_count": 9,
   "id": "4106577b-36be-4134-aff8-96c9907bff00",
   "metadata": {},
   "outputs": [
    {
     "data": {
      "text/latex": [
       "$\\displaystyle \\infty$"
      ],
      "text/plain": [
       "oo"
      ]
     },
     "execution_count": 9,
     "metadata": {},
     "output_type": "execute_result"
    }
   ],
   "source": [
    "sp.oo"
   ]
  },
  {
   "cell_type": "code",
   "execution_count": 10,
   "id": "4104de9f-37a5-4b00-a2ae-4068482510d5",
   "metadata": {},
   "outputs": [
    {
     "data": {
      "text/latex": [
       "$\\displaystyle i$"
      ],
      "text/plain": [
       "I"
      ]
     },
     "execution_count": 10,
     "metadata": {},
     "output_type": "execute_result"
    }
   ],
   "source": [
    "sp.I"
   ]
  },
  {
   "cell_type": "markdown",
   "id": "f64a66be",
   "metadata": {},
   "source": [
    "## Simple Pendulum Example\n",
    "This section is a mixture of the sources below. \n",
    "\n",
    "3. [Simple Pendulum with Python + Sympy - Logan Dihel (YouTube)](https://youtu.be/ZCzIoaGls4g)\n",
    "4. [Pendulum Motion in PYTHON - Mr. P Solver (YouTube)](https://youtu.be/ENNyltVTJaE)"
   ]
  },
  {
   "cell_type": "code",
   "execution_count": 11,
   "id": "4e686fcd",
   "metadata": {},
   "outputs": [],
   "source": [
    "import sympy.physics.mechanics as sppm"
   ]
  },
  {
   "cell_type": "markdown",
   "id": "7680168c",
   "metadata": {},
   "source": [
    "### Symbols\n",
    "- [dynamicsymbols](https://docs.sympy.org/latest/modules/physics/vector/advanced.html#dynamicsymbols)"
   ]
  },
  {
   "cell_type": "code",
   "execution_count": 12,
   "id": "074e8315",
   "metadata": {},
   "outputs": [
    {
     "data": {
      "text/latex": [
       "$\\displaystyle \\Theta{\\left(t \\right)}$"
      ],
      "text/plain": [
       "\\Theta(t)"
      ]
     },
     "execution_count": 12,
     "metadata": {},
     "output_type": "execute_result"
    }
   ],
   "source": [
    "m, g, l= sp.symbols('m, g, l', real=True)\n",
    "# `t` has to be defined as below, to include it in the definition above leads to wrong derivations below.\n",
    "t = sp.Symbol('t')\n",
    "Theta, x, y = sppm.dynamicsymbols('\\Theta, x, y')\n",
    "Theta"
   ]
  },
  {
   "cell_type": "markdown",
   "id": "2dfa10df",
   "metadata": {},
   "source": [
    "### Equations\n",
    "![](../images/SimplePendulum.drawio.png)"
   ]
  },
  {
   "cell_type": "code",
   "execution_count": 14,
   "id": "f0e3a195",
   "metadata": {},
   "outputs": [
    {
     "data": {
      "text/latex": [
       "$\\displaystyle \\left[\\begin{matrix}x_{m}\\\\y_{m}\\end{matrix}\\right] = \\left[\\begin{matrix}l \\sin{\\left(\\Theta{\\left(t \\right)} \\right)}\\\\- l \\cos{\\left(\\Theta{\\left(t \\right)} \\right)}\\end{matrix}\\right]$"
      ],
      "text/plain": [
       "Eq(Matrix([\n",
       "[x_m],\n",
       "[y_m]]), Matrix([\n",
       "[ l*sin(\\Theta(t))],\n",
       "[-l*cos(\\Theta(t))]]))"
      ]
     },
     "execution_count": 14,
     "metadata": {},
     "output_type": "execute_result"
    }
   ],
   "source": [
    "xm = l*sp.sin(Theta)\n",
    "ym = -l*sp.cos(Theta)\n",
    "sp.Eq(sp.Matrix(['x_m', 'y_m']), sp.Matrix([xm, ym]))"
   ]
  },
  {
   "cell_type": "code",
   "execution_count": 15,
   "id": "37cd97cf",
   "metadata": {},
   "outputs": [
    {
     "data": {
      "text/latex": [
       "$\\displaystyle \\left[\\begin{matrix}l \\cos{\\left(\\Theta{\\left(t \\right)} \\right)} \\frac{d}{d t} \\Theta{\\left(t \\right)}\\\\l \\sin{\\left(\\Theta{\\left(t \\right)} \\right)} \\frac{d}{d t} \\Theta{\\left(t \\right)}\\end{matrix}\\right]$"
      ],
      "text/plain": [
       "Matrix([\n",
       "[l*cos(\\Theta(t))*Derivative(\\Theta(t), t)],\n",
       "[l*sin(\\Theta(t))*Derivative(\\Theta(t), t)]])"
      ]
     },
     "execution_count": 15,
     "metadata": {},
     "output_type": "execute_result"
    }
   ],
   "source": [
    "sp.Matrix([xm.diff(t), ym.diff(t)])"
   ]
  },
  {
   "cell_type": "code",
   "execution_count": 16,
   "id": "a30dcee5",
   "metadata": {},
   "outputs": [
    {
     "data": {
      "text/latex": [
       "$\\displaystyle \\frac{d^{2}}{d t^{2}} \\Theta{\\left(t \\right)}$"
      ],
      "text/plain": [
       "Derivative(\\Theta(t), (t, 2))"
      ]
     },
     "execution_count": 16,
     "metadata": {},
     "output_type": "execute_result"
    }
   ],
   "source": [
    "Theta.diff(t, 2)"
   ]
  },
  {
   "cell_type": "markdown",
   "id": "defd5540",
   "metadata": {},
   "source": [
    "### Lagrangian"
   ]
  },
  {
   "cell_type": "code",
   "execution_count": 17,
   "id": "99b823c2",
   "metadata": {},
   "outputs": [
    {
     "data": {
      "text/latex": [
       "$\\displaystyle g l m \\cos{\\left(\\Theta{\\left(t \\right)} \\right)} + \\frac{m \\left(l^{2} \\sin^{2}{\\left(\\Theta{\\left(t \\right)} \\right)} \\left(\\frac{d}{d t} \\Theta{\\left(t \\right)}\\right)^{2} + l^{2} \\cos^{2}{\\left(\\Theta{\\left(t \\right)} \\right)} \\left(\\frac{d}{d t} \\Theta{\\left(t \\right)}\\right)^{2}\\right)}{2}$"
      ],
      "text/plain": [
       "g*l*m*cos(\\Theta(t)) + m*(l**2*sin(\\Theta(t))**2*Derivative(\\Theta(t), t)**2 + l**2*cos(\\Theta(t))**2*Derivative(\\Theta(t), t)**2)/2"
      ]
     },
     "execution_count": 17,
     "metadata": {},
     "output_type": "execute_result"
    }
   ],
   "source": [
    "T = m/2*(xm.diff(t)**2 + ym.diff(t)**2)\n",
    "V = m*g*ym\n",
    "L = T - V\n",
    "L"
   ]
  },
  {
   "cell_type": "markdown",
   "id": "451e5481",
   "metadata": {},
   "source": [
    "### [Euler-Lagrange equation (Lagrange's equations of the second kind) - Wikipedia](https://en.wikipedia.org/wiki/Lagrangian_mechanics#Lagrangian)\n",
    "\n",
    "$$\n",
    "\\boxed{\\frac{d}{dt} \\left(\\frac{\\partial L}{\\partial \\dot\\Theta}\\right) - \\frac{\\partial L}{\\partial \\Theta} = 0}\n",
    "$$"
   ]
  },
  {
   "cell_type": "code",
   "execution_count": 18,
   "id": "cb4946f6",
   "metadata": {},
   "outputs": [
    {
     "data": {
      "text/latex": [
       "$\\displaystyle g l m \\sin{\\left(\\Theta{\\left(t \\right)} \\right)} + \\frac{m \\left(2 l^{2} \\sin^{2}{\\left(\\Theta{\\left(t \\right)} \\right)} \\frac{d^{2}}{d t^{2}} \\Theta{\\left(t \\right)} + 2 l^{2} \\cos^{2}{\\left(\\Theta{\\left(t \\right)} \\right)} \\frac{d^{2}}{d t^{2}} \\Theta{\\left(t \\right)}\\right)}{2}$"
      ],
      "text/plain": [
       "g*l*m*sin(\\Theta(t)) + m*(2*l**2*sin(\\Theta(t))**2*Derivative(\\Theta(t), (t, 2)) + 2*l**2*cos(\\Theta(t))**2*Derivative(\\Theta(t), (t, 2)))/2"
      ]
     },
     "execution_count": 18,
     "metadata": {},
     "output_type": "execute_result"
    }
   ],
   "source": [
    "LE = sp.diff(sp.diff(L, Theta.diff(t)), t) - sp.diff(L, Theta)\n",
    "LE"
   ]
  },
  {
   "cell_type": "code",
   "execution_count": 19,
   "id": "a111c59b",
   "metadata": {},
   "outputs": [
    {
     "data": {
      "text/latex": [
       "$\\displaystyle l m \\left(g \\sin{\\left(\\Theta{\\left(t \\right)} \\right)} + l \\frac{d^{2}}{d t^{2}} \\Theta{\\left(t \\right)}\\right)$"
      ],
      "text/plain": [
       "l*m*(g*sin(\\Theta(t)) + l*Derivative(\\Theta(t), (t, 2)))"
      ]
     },
     "execution_count": 19,
     "metadata": {},
     "output_type": "execute_result"
    }
   ],
   "source": [
    "LE = LE.simplify()\n",
    "LE"
   ]
  },
  {
   "cell_type": "code",
   "execution_count": 20,
   "id": "0b13aaa0",
   "metadata": {},
   "outputs": [
    {
     "data": {
      "text/latex": [
       "$\\displaystyle \\frac{d^{2}}{d t^{2}} \\Theta{\\left(t \\right)} = - \\frac{g \\sin{\\left(\\Theta{\\left(t \\right)} \\right)}}{l}$"
      ],
      "text/plain": [
       "Eq(Derivative(\\Theta(t), (t, 2)), -g*sin(\\Theta(t))/l)"
      ]
     },
     "execution_count": 20,
     "metadata": {},
     "output_type": "execute_result"
    }
   ],
   "source": [
    "sln = sp.solve(LE, Theta.diff(t, 2))[0]  # Only one solution\n",
    "ODE = sp.Eq(Theta.diff(t, 2), sln)\n",
    "ODE"
   ]
  },
  {
   "cell_type": "markdown",
   "id": "41c0c5a7",
   "metadata": {},
   "source": [
    "### [Solve an Ordinary Differential Equation (ODE) Algebraically - SymPy](https://docs.sympy.org/latest/guides/solving/solve-ode.html)\n",
    "\n",
    "5. [Ordinary Differential Equations - SymPy Tutorial 10 - TM Quest (YouTube)](https://youtu.be/Z2havWsxa-E)\n",
    "\n",
    "**ODE**\n",
    "\n",
    "$\\ddot\\Theta = -\\frac{g sin(\\Theta(t))}{l}$ with initial conditions: $\\ddot\\Theta (0) = 0$, $\\Theta (0) = \\pi / 10$\n",
    "\n",
    "Sovling the ODE even with setting the parameters $g = 9.81 [m/s^2]$ and  $l = 1 [m]$ (`sp.dsolve(ODE.subs({g: 9.81, l: 1}), Theta)`) led to `RecursionError: maximum recursion depth exceeded`. Hence a numerical solution was necessary."
   ]
  },
  {
   "cell_type": "markdown",
   "id": "1b76af44",
   "metadata": {},
   "source": [
    "### [Solve an Ordinary Differential Equation (ODE) Numerically](https://docs.sympy.org/latest/guides/solving/solve-ode.html#numerically-solve-an-ode-in-scipy)"
   ]
  },
  {
   "cell_type": "markdown",
   "id": "702ac783",
   "metadata": {},
   "source": [
    "### Animate Solution\n"
   ]
  }
 ],
 "metadata": {
  "kernelspec": {
   "display_name": "Python 3 (ipykernel)",
   "language": "python",
   "name": "python3"
  },
  "language_info": {
   "codemirror_mode": {
    "name": "ipython",
    "version": 3
   },
   "file_extension": ".py",
   "mimetype": "text/x-python",
   "name": "python",
   "nbconvert_exporter": "python",
   "pygments_lexer": "ipython3",
   "version": "3.11.7"
  }
 },
 "nbformat": 4,
 "nbformat_minor": 5
}
