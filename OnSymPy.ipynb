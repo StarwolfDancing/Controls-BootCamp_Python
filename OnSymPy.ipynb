{
 "cells": [
  {
   "cell_type": "markdown",
   "id": "fcf86a49-0fb4-469c-866f-945852c91215",
   "metadata": {},
   "source": [
    "# On SymPy\n",
    "1. [SymPy](https://www.sympy.org/en/index.html)"
   ]
  },
  {
   "cell_type": "code",
   "execution_count": 2,
   "id": "22a4203e-87ff-4db2-8ca1-7d734e46f34f",
   "metadata": {},
   "outputs": [],
   "source": [
    "import sympy as sp"
   ]
  },
  {
   "cell_type": "markdown",
   "id": "c8d39d2f",
   "metadata": {},
   "source": [
    "## Basics\n",
    "2. [SymPy Tutorial - TM Quest (YouTube)](https://youtube.com/playlist?list=PLSE7WKf_qqo1T5VV1nqXTj2iNiSpFk72T)"
   ]
  },
  {
   "cell_type": "code",
   "execution_count": 3,
   "id": "0d49689a-4f59-4913-aaef-3cff9a2ec28d",
   "metadata": {},
   "outputs": [
    {
     "data": {
      "text/latex": [
       "$\\displaystyle t^{2} x - x$"
      ],
      "text/plain": [
       "t**2*x - x"
      ]
     },
     "execution_count": 3,
     "metadata": {},
     "output_type": "execute_result"
    }
   ],
   "source": [
    "x, t = sp.symbols(\"x, t\")\n",
    "e1 = x * t**2 - x\n",
    "e1"
   ]
  },
  {
   "cell_type": "code",
   "execution_count": 4,
   "id": "f80259b1-0a56-497a-85e5-7e35c3a6e81b",
   "metadata": {},
   "outputs": [
    {
     "data": {
      "text/latex": [
       "$\\displaystyle x \\left(t - 1\\right) \\left(t + 1\\right)$"
      ],
      "text/plain": [
       "x*(t - 1)*(t + 1)"
      ]
     },
     "execution_count": 4,
     "metadata": {},
     "output_type": "execute_result"
    }
   ],
   "source": [
    "e1.factor()"
   ]
  },
  {
   "cell_type": "code",
   "execution_count": 5,
   "id": "2d67d0dd-04b1-4699-8c14-14c3d67fa2c3",
   "metadata": {},
   "outputs": [
    {
     "data": {
      "text/latex": [
       "$\\displaystyle t^{2} - 1$"
      ],
      "text/plain": [
       "t**2 - 1"
      ]
     },
     "execution_count": 5,
     "metadata": {},
     "output_type": "execute_result"
    }
   ],
   "source": [
    "e1.diff(x)"
   ]
  },
  {
   "cell_type": "code",
   "execution_count": 6,
   "id": "1252a432-0230-4a90-a43b-af326d88ae97",
   "metadata": {},
   "outputs": [
    {
     "data": {
      "text/latex": [
       "$\\displaystyle \\Phi_{1}$"
      ],
      "text/plain": [
       "\\Phi_1"
      ]
     },
     "execution_count": 6,
     "metadata": {},
     "output_type": "execute_result"
    }
   ],
   "source": [
    "Phi1, alpha1 = sp.symbols(\"\\Phi_1, \\\\alpha_1\")\n",
    "Phi1"
   ]
  },
  {
   "cell_type": "code",
   "execution_count": 7,
   "id": "e151230f",
   "metadata": {},
   "outputs": [
    {
     "data": {
      "text/latex": [
       "$\\displaystyle \\alpha_{1}$"
      ],
      "text/plain": [
       "\\alpha_1"
      ]
     },
     "execution_count": 7,
     "metadata": {},
     "output_type": "execute_result"
    }
   ],
   "source": [
    "alpha1"
   ]
  },
  {
   "cell_type": "code",
   "execution_count": 8,
   "id": "e7ea5a17-5bb4-4db1-92f2-bf8c42b35ba4",
   "metadata": {},
   "outputs": [
    {
     "data": {
      "text/latex": [
       "$\\displaystyle \\cos{\\left(\\Phi_{1} \\right)}$"
      ],
      "text/plain": [
       "cos(\\Phi_1)"
      ]
     },
     "execution_count": 8,
     "metadata": {},
     "output_type": "execute_result"
    }
   ],
   "source": [
    "sp.sin(Phi1).diff(Phi1)"
   ]
  },
  {
   "cell_type": "code",
   "execution_count": 9,
   "id": "f3cf4fd7-9325-47d2-b12c-f8661a0b61ea",
   "metadata": {},
   "outputs": [
    {
     "data": {
      "text/latex": [
       "$\\displaystyle \\Theta_{1}$"
      ],
      "text/plain": [
       "\\Theta_1"
      ]
     },
     "execution_count": 9,
     "metadata": {},
     "output_type": "execute_result"
    }
   ],
   "source": [
    "theta = sp.symbols(\"\\Theta_0:3\")\n",
    "theta[1]"
   ]
  },
  {
   "cell_type": "code",
   "execution_count": 10,
   "id": "4106577b-36be-4134-aff8-96c9907bff00",
   "metadata": {},
   "outputs": [
    {
     "data": {
      "text/latex": [
       "$\\displaystyle \\infty$"
      ],
      "text/plain": [
       "oo"
      ]
     },
     "execution_count": 10,
     "metadata": {},
     "output_type": "execute_result"
    }
   ],
   "source": [
    "sp.oo"
   ]
  },
  {
   "cell_type": "code",
   "execution_count": 11,
   "id": "4104de9f-37a5-4b00-a2ae-4068482510d5",
   "metadata": {},
   "outputs": [
    {
     "data": {
      "text/latex": [
       "$\\displaystyle i$"
      ],
      "text/plain": [
       "I"
      ]
     },
     "execution_count": 11,
     "metadata": {},
     "output_type": "execute_result"
    }
   ],
   "source": [
    "sp.I"
   ]
  },
  {
   "cell_type": "markdown",
   "id": "f64a66be",
   "metadata": {},
   "source": [
    "## Example: Simple Pendulum\n",
    "This section is a mixture of the sources below. \n",
    "\n",
    "3. [Simple Pendulum with Python + Sympy - Logan Dihel (YouTube)](https://youtu.be/ZCzIoaGls4g)\n",
    "3. [Pendulum Motion in PYTHON - Mr. P Solver (YouTube)](https://youtu.be/ENNyltVTJaE)"
   ]
  },
  {
   "cell_type": "code",
   "execution_count": 12,
   "id": "4e686fcd",
   "metadata": {},
   "outputs": [],
   "source": [
    "import sympy.physics.mechanics as sppm"
   ]
  },
  {
   "cell_type": "markdown",
   "id": "7680168c",
   "metadata": {},
   "source": [
    "### Symbols"
   ]
  },
  {
   "cell_type": "code",
   "execution_count": 13,
   "id": "074e8315",
   "metadata": {},
   "outputs": [
    {
     "data": {
      "text/latex": [
       "$\\displaystyle x{\\left(t \\right)}$"
      ],
      "text/plain": [
       "x(t)"
      ]
     },
     "execution_count": 13,
     "metadata": {},
     "output_type": "execute_result"
    }
   ],
   "source": [
    "m, g, l, t = sp.symbols('m, g, l, t')\n",
    "Theta, x, y = sppm.dynamicsymbols('\\Theta, x, y')\n",
    "x"
   ]
  },
  {
   "cell_type": "code",
   "execution_count": 21,
   "id": "f0e3a195",
   "metadata": {},
   "outputs": [
    {
     "data": {
      "text/latex": [
       "$\\displaystyle \\left[\\begin{matrix}x\\\\y\\end{matrix}\\right] = \\left[\\begin{matrix}l \\sin{\\left(\\Theta{\\left(t \\right)} \\right)}\\\\- l \\cos{\\left(\\Theta{\\left(t \\right)} \\right)}\\end{matrix}\\right]$"
      ],
      "text/plain": [
       "Eq(Matrix([\n",
       "[x],\n",
       "[y]]), Matrix([\n",
       "[ l*sin(\\Theta(t))],\n",
       "[-l*cos(\\Theta(t))]]))"
      ]
     },
     "execution_count": 21,
     "metadata": {},
     "output_type": "execute_result"
    }
   ],
   "source": [
    "x = l*sp.sin(Theta)\n",
    "y = -l*sp.cos(Theta)\n",
    "sp.Eq(sp.Matrix(['x', 'y']), sp.Matrix([x, y]))"
   ]
  },
  {
   "cell_type": "markdown",
   "id": "2dfa10df",
   "metadata": {},
   "source": [
    "### Equations\n",
    "![](./images/SimplePendulum.drawio.png)"
   ]
  },
  {
   "cell_type": "code",
   "execution_count": null,
   "id": "37cd97cf",
   "metadata": {},
   "outputs": [
    {
     "data": {
      "text/latex": [
       "$\\displaystyle \\frac{d^{2}}{d t^{2}} \\Theta{\\left(t \\right)}$"
      ],
      "text/plain": [
       "Derivative(\\Theta(t), (t, 2))"
      ]
     },
     "execution_count": 13,
     "metadata": {},
     "output_type": "execute_result"
    }
   ],
   "source": [
    "xm = l*sp.sin(Theta)\n",
    "ym = -l*sp.cos(Theta)\n",
    "xm_dot = sp.diff(xm, t)\n",
    "ym_dot = sp.diff(ym, t)\n",
    "Theta_dot = sp.diff(Theta)\n",
    "Theta_ddot = sp.diff(Theta_dot)\n",
    "Theta_ddot"
   ]
  },
  {
   "cell_type": "markdown",
   "id": "defd5540",
   "metadata": {},
   "source": [
    "### Lagrangian"
   ]
  },
  {
   "cell_type": "code",
   "execution_count": null,
   "id": "99b823c2",
   "metadata": {},
   "outputs": [
    {
     "data": {
      "text/latex": [
       "$\\displaystyle g l m \\cos{\\left(\\Theta{\\left(t \\right)} \\right)} + \\frac{m \\left(l^{2} \\sin^{2}{\\left(\\Theta{\\left(t \\right)} \\right)} \\left(\\frac{d}{d t} \\Theta{\\left(t \\right)}\\right)^{2} + l^{2} \\cos^{2}{\\left(\\Theta{\\left(t \\right)} \\right)} \\left(\\frac{d}{d t} \\Theta{\\left(t \\right)}\\right)^{2}\\right)}{2}$"
      ],
      "text/plain": [
       "g*l*m*cos(\\Theta(t)) + m*(l**2*sin(\\Theta(t))**2*Derivative(\\Theta(t), t)**2 + l**2*cos(\\Theta(t))**2*Derivative(\\Theta(t), t)**2)/2"
      ]
     },
     "execution_count": 14,
     "metadata": {},
     "output_type": "execute_result"
    }
   ],
   "source": [
    "T = m/2*(xm_dot**2 + ym_dot**2)\n",
    "V = m*g*ym\n",
    "L = T - V\n",
    "L"
   ]
  },
  {
   "cell_type": "markdown",
   "id": "451e5481",
   "metadata": {},
   "source": [
    "### [Euler-Lagrange equation - Wikipedia](https://en.wikipedia.org/wiki/Euler%E2%80%93Lagrange_equation)\n",
    "- [Simple Pendulum with Python + Sympy - Logan Dihel (YouTube)](https://youtu.be/ZCzIoaGls4g)\n",
    "\n",
    "$$\n",
    "\\boxed{\\frac{d}{dt} \\left(\\frac{\\partial L}{\\partial \\dot\\Theta}\\right) - \\frac{\\partial L}{\\partial \\Theta} = 0}\n",
    "$$"
   ]
  },
  {
   "cell_type": "code",
   "execution_count": null,
   "id": "cb4946f6",
   "metadata": {},
   "outputs": [
    {
     "data": {
      "text/latex": [
       "$\\displaystyle g l m \\sin{\\left(\\Theta{\\left(t \\right)} \\right)} + \\frac{m \\left(2 l^{2} \\sin^{2}{\\left(\\Theta{\\left(t \\right)} \\right)} \\frac{d^{2}}{d t^{2}} \\Theta{\\left(t \\right)} + 2 l^{2} \\cos^{2}{\\left(\\Theta{\\left(t \\right)} \\right)} \\frac{d^{2}}{d t^{2}} \\Theta{\\left(t \\right)}\\right)}{2}$"
      ],
      "text/plain": [
       "g*l*m*sin(\\Theta(t)) + m*(2*l**2*sin(\\Theta(t))**2*Derivative(\\Theta(t), (t, 2)) + 2*l**2*cos(\\Theta(t))**2*Derivative(\\Theta(t), (t, 2)))/2"
      ]
     },
     "execution_count": 15,
     "metadata": {},
     "output_type": "execute_result"
    }
   ],
   "source": [
    "eqn = sp.diff(sp.diff(L, Theta_dot), t) - sp.diff(L, Theta)\n",
    "eqn"
   ]
  },
  {
   "cell_type": "code",
   "execution_count": null,
   "id": "0b13aaa0",
   "metadata": {},
   "outputs": [
    {
     "data": {
      "text/latex": [
       "$\\displaystyle \\frac{d^{2}}{d t^{2}} \\Theta{\\left(t \\right)} = - \\frac{g \\sin{\\left(\\Theta{\\left(t \\right)} \\right)}}{l}$"
      ],
      "text/plain": [
       "Eq(Derivative(\\Theta(t), (t, 2)), -g*sin(\\Theta(t))/l)"
      ]
     },
     "execution_count": 16,
     "metadata": {},
     "output_type": "execute_result"
    }
   ],
   "source": [
    "sln = sp.solve(eqn, Theta_ddot)[0]  # Only one solution\n",
    "sp.Eq(Theta_ddot, sln)"
   ]
  },
  {
   "cell_type": "code",
   "execution_count": null,
   "id": "0b03248c",
   "metadata": {},
   "outputs": [
    {
     "data": {
      "text/latex": [
       "$\\displaystyle \\left[\\begin{matrix}\\frac{d}{d t} \\Theta{\\left(t \\right)}\\\\\\frac{d^{2}}{d t^{2}} \\Theta{\\left(t \\right)}\\end{matrix}\\right] = \\left[\\begin{matrix}\\frac{d}{d t} \\Theta{\\left(t \\right)}\\\\- \\frac{g \\sin{\\left(\\Theta{\\left(t \\right)} \\right)}}{l}\\end{matrix}\\right]$"
      ],
      "text/plain": [
       "Eq(Matrix([\n",
       "[     Derivative(\\Theta(t), t)],\n",
       "[Derivative(\\Theta(t), (t, 2))]]), Matrix([\n",
       "[Derivative(\\Theta(t), t)],\n",
       "[     -g*sin(\\Theta(t))/l]]))"
      ]
     },
     "execution_count": 17,
     "metadata": {},
     "output_type": "execute_result"
    }
   ],
   "source": [
    "x = sp.Matrix([Theta, Theta_dot])\n",
    "x_dot = sp.diff(x, t)\n",
    "sp.Eq(x_dot, sp.Matrix([Theta_dot, sln]))"
   ]
  },
  {
   "cell_type": "code",
   "execution_count": null,
   "id": "99ee4695",
   "metadata": {},
   "outputs": [],
   "source": []
  }
 ],
 "metadata": {
  "kernelspec": {
   "display_name": "Python 3",
   "language": "python",
   "name": "python3"
  },
  "language_info": {
   "codemirror_mode": {
    "name": "ipython",
    "version": 3
   },
   "file_extension": ".py",
   "mimetype": "text/x-python",
   "name": "python",
   "nbconvert_exporter": "python",
   "pygments_lexer": "ipython3",
   "version": "3.11.7"
  }
 },
 "nbformat": 4,
 "nbformat_minor": 5
}
