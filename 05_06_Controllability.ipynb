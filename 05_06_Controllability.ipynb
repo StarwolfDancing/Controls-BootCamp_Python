{
 "cells": [
  {
   "cell_type": "markdown",
   "metadata": {},
   "source": [
    "# Control System Bootcamp - Video 5-6"
   ]
  },
  {
   "cell_type": "code",
   "execution_count": 4,
   "metadata": {
    "jupyter": {
     "source_hidden": true
    },
    "tags": []
   },
   "outputs": [
    {
     "data": {
      "text/html": [
       "\n",
       "<iframe width=\"560\" height=\"315\" src=\"https://www.youtube.com/embed/FLByezr38Ps\" frameborder=\"0\" allow=\"autoplay; encrypted-media\" allowfullscreen></iframe>\n"
      ],
      "text/plain": [
       "<IPython.core.display.HTML object>"
      ]
     },
     "execution_count": 4,
     "metadata": {},
     "output_type": "execute_result"
    }
   ],
   "source": [
    "from IPython.display import HTML\n",
    "HTML(\"\"\"\n",
    "<iframe width=\"560\" height=\"315\" src=\"https://www.youtube.com/embed/FLByezr38Ps\" frameborder=\"0\" allow=\"autoplay; encrypted-media\" allowfullscreen></iframe>\n",
    "\"\"\")"
   ]
  },
  {
   "cell_type": "markdown",
   "metadata": {
    "tags": []
   },
   "source": [
    "## Controllability, Reachability, and Eigenvalue Placement\n",
    "\n",
    "<img src=\"./images/FeedbackSystem.png\" alt=\"FeedbackSystem\" style=\"display:block; float:none; margin-left:auto; margin-right:auto; width:30%\">\n",
    "\n",
    "### Controllabillity examples\n",
    "\n",
    "**Note: \\textcolor{green} did not work in JupyterLab, but in VS Code**\n",
    "\n",
    "$$\n",
    "\\begin{align*} \n",
    "(*)\\quad\n",
    "&\\begin{bmatrix} \\dot x_1 \\\\ \\dot x_2 \\end{bmatrix} = \n",
    "\\underbrace{\\begin{bmatrix} 1 & 0 \\\\ 0 & 2 \\end{bmatrix} \\begin{bmatrix} x_1 \\\\ x_2 \\end{bmatrix} }_\\text{unctrb $x$} +\n",
    "\\begin{bmatrix} 0 \\\\ 1 \\end{bmatrix}u\\quad\n",
    "\\underbrace{\\begin{pmatrix} + \\begin{bmatrix} 1 & 0 \\\\ 0 & 1 \\end{bmatrix} \\begin{bmatrix} u_1 \\\\ u_2  \\end{bmatrix}\n",
    "\\end{pmatrix}}_\\text{ctrb $x$}\n",
    "\\\\[11pt]\n",
    "(**)\\quad\n",
    "&\\begin{bmatrix} \\dot x_1 \\\\ \\dot x_2 \\end{bmatrix} = \n",
    "\\underbrace{\\begin{bmatrix} 1 & \\bf1 \\\\ 0 & 2 \\end{bmatrix} \\begin{bmatrix} x_1 \\\\ x_2 \\end{bmatrix} }_\\text{ctrb $x$} +\n",
    "\\begin{bmatrix} 0 \\\\ 1 \\end{bmatrix}u\n",
    "\\end{align*} \n",
    "$$\n",
    "\n",
    "### Controllabillity matrix\n",
    "$ C = \\begin{bmatrix} A & AB & A^2B &... &A^{n-1}B\\end{bmatrix} \\iff rank(C) = n$, then system is controlable."
   ]
  },
  {
   "cell_type": "markdown",
   "metadata": {},
   "source": [
    "$$\n",
    "\\begin{align*} \n",
    "(*)\\quad\n",
    "& C = \\begin{bmatrix} 0 & 1 \\\\ 0 & 2 \\end{bmatrix} \\quad rank=1, unctrb.\n",
    "\\\\[11pt]\n",
    "(**)\\quad\n",
    "& C = \\begin{bmatrix} 0 & 1 \\\\ 1 & 2 \\end{bmatrix} \\quad rank=2, ctrb.\n",
    "\\end{align*} \n",
    "$$"
   ]
  },
  {
   "cell_type": "markdown",
   "metadata": {},
   "source": [
    "- [Python Control Systems Library](https://web.math.princeton.edu/~cwrowley/python-control/index.html)\n",
    "- [control.ctrb - Python Control Systems Library documentation](https://web.math.princeton.edu/~cwrowley/python-control/generated/control.ctrb.html)"
   ]
  },
  {
   "cell_type": "code",
   "execution_count": 2,
   "metadata": {},
   "outputs": [
    {
     "data": {
      "text/plain": [
       "(array([[1, 0],\n",
       "        [0, 2]]),\n",
       " array([[0],\n",
       "        [1]]),\n",
       " array([[1, 1],\n",
       "        [0, 2]]),\n",
       " array([[0],\n",
       "        [1]]))"
      ]
     },
     "execution_count": 2,
     "metadata": {},
     "output_type": "execute_result"
    }
   ],
   "source": [
    "import numpy as np\n",
    "import control as ct\n",
    "\n",
    "A1, B1 = np.array([[1, 0], [0, 2]]), np.array([[0], [1]])\n",
    "A2, B2 = np.array([[1, 1], [0, 2]]), np.array([[0], [1]])\n",
    "A1, B1, A2, B2"
   ]
  },
  {
   "cell_type": "code",
   "execution_count": 3,
   "metadata": {},
   "outputs": [
    {
     "data": {
      "text/plain": [
       "(array([[0., 0.],\n",
       "        [1., 2.]]),\n",
       " 1,\n",
       " array([[0., 1.],\n",
       "        [1., 2.]]),\n",
       " 2)"
      ]
     },
     "execution_count": 3,
     "metadata": {},
     "output_type": "execute_result"
    }
   ],
   "source": [
    "C1, C2 = ct.ctrb(A1, B1), ct.ctrb(A2, B2)\n",
    "C1, np.linalg.matrix_rank(C1), C2, np.linalg.matrix_rank(C2)"
   ]
  },
  {
   "cell_type": "markdown",
   "metadata": {},
   "source": [
    "Video 6: Controllability, Reachability, and Eigenvalue Placement"
   ]
  },
  {
   "cell_type": "markdown",
   "metadata": {},
   "source": [
    "### Equivalences of Controllability\n",
    "\n",
    "### 1. System is controllable\n",
    "\n",
    "\n",
    "### 2. Arbitrary eigenvalue (pole) placement\n",
    "$$U = -Kx$$\n",
    "which means $\\dot x = (A - Bk)x$. $(A - Bk)$ is arbitrary eigenvalues.\n",
    "\n",
    "### 3. Arbitrary eigenvalue (pole) placement\n",
    "$$U = -Kx$$\n",
    "which means $\\dot x = (A - Bk)x$. $(A - Bk)$ is arbitrary eigenvalues."
   ]
  },
  {
   "cell_type": "markdown",
   "metadata": {
    "tags": []
   },
   "source": [
    "##### Commands\n",
    "| Matlab | [Python](https://python-control.readthedocs.io/en/latest/generated/control.matlab.place.html) |\n",
    "| :----: | :----: |\n",
    "|`K = place(A, B, eigs)`| `control.matlab.place(A, B, p)` |"
   ]
  },
  {
   "cell_type": "code",
   "execution_count": null,
   "metadata": {
    "tags": []
   },
   "outputs": [],
   "source": []
  }
 ],
 "metadata": {
  "anaconda-cloud": {},
  "kernelspec": {
   "display_name": "Python [conda env:ControlBootcamp] *",
   "language": "python",
   "name": "conda-env-ControlBootcamp-py"
  },
  "language_info": {
   "codemirror_mode": {
    "name": "ipython",
    "version": 3
   },
   "file_extension": ".py",
   "mimetype": "text/x-python",
   "name": "python",
   "nbconvert_exporter": "python",
   "pygments_lexer": "ipython3",
   "version": "3.11.3"
  }
 },
 "nbformat": 4,
 "nbformat_minor": 4
}
