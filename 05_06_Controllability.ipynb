{
 "cells": [
  {
   "attachments": {},
   "cell_type": "markdown",
   "metadata": {},
   "source": [
    "# Control System Bootcamp - Video 5-6"
   ]
  },
  {
   "cell_type": "code",
   "execution_count": 2,
   "metadata": {
    "collapsed": false
   },
   "outputs": [
    {
     "data": {
      "text/html": [
       "\n",
       "<iframe width=\"560\" height=\"315\" src=\"https://www.youtube.com/embed/FLByezr38Ps\" frameborder=\"0\" allow=\"autoplay; encrypted-media\" allowfullscreen></iframe>\n"
      ],
      "text/plain": [
       "<IPython.core.display.HTML object>"
      ]
     },
     "execution_count": 2,
     "metadata": {},
     "output_type": "execute_result"
    }
   ],
   "source": [
    "from IPython.display import HTML\n",
    "HTML(\"\"\"\n",
    "<iframe width=\"560\" height=\"315\" src=\"https://www.youtube.com/embed/FLByezr38Ps\" frameborder=\"0\" allow=\"autoplay; encrypted-media\" allowfullscreen></iframe>\n",
    "\"\"\")"
   ]
  },
  {
   "attachments": {},
   "cell_type": "markdown",
   "metadata": {},
   "source": [
    "## Controllability, Reachability, and Eigenvalue Placement\n",
    "\n",
    "<img src=\"./images/FeedbackSystem.png\" alt=\"FeedbackSystem\" style=\"display:block; float:none; margin-left:auto; margin-right:auto; width:30%\">\n",
    "\n",
    "### Controllabillity examples\n",
    "\n",
    "$$\n",
    "\\begin{align*} \n",
    "(*)\\quad\n",
    "&\\begin{bmatrix} \\dot x_1 \\\\ \\dot x_2 \\end{bmatrix} = \n",
    "\\underbrace{\\begin{bmatrix} 1 & 0 \\\\ 0 & 2 \\end{bmatrix} \\begin{bmatrix} x_1 \\\\ x_2 \\end{bmatrix} }_\\text{unctrb $x$} +\n",
    "\\begin{bmatrix} 0 \\\\ 1 \\end{bmatrix}u\\quad\n",
    "\\underbrace{\\begin{pmatrix} + \\begin{bmatrix} 1 & 0 \\\\ 0 & 1 \\end{bmatrix} \\begin{bmatrix} u_1 \\\\ u_2  \\end{bmatrix}\n",
    "\\end{pmatrix}}_\\text{ctrb $x$}\n",
    "\\\\[42pt]\n",
    "(**)\\quad\n",
    "&\\begin{bmatrix} \\dot x_1 \\\\ \\dot x_2 \\end{bmatrix} = \n",
    "\\underbrace{\\begin{bmatrix} 1 & \\textcolor{green}1 \\\\ 0 & 2 \\end{bmatrix} \\begin{bmatrix} x_1 \\\\ x_2 \\end{bmatrix} }_\\text{ctrb $x$} +\n",
    "\\begin{bmatrix} 0 \\\\ 1 \\end{bmatrix}u\n",
    "\\end{align*} \n",
    "$$\n",
    "\n",
    "### Controllabillity matrix\n",
    "$$ C = \\begin{bmatrix} A & AB & A^2B &... &A^{n-1}B\\end{bmatrix}$$\n",
    "if and only if $rank(C) = n$ then system is controlable.\n",
    "\n",
    "Video at 21 min"
   ]
  },
  {
   "attachments": {},
   "cell_type": "markdown",
   "metadata": {},
   "source": [
    "### Equivalences of Controllability\n",
    "\n",
    "### 1. System is controllable\n",
    "\n",
    "\n",
    "### 2. Arbitrary eigenvalue (pole) placement\n",
    "$$U = -Kx$$\n",
    "which means $\\dot x = (A - Bk)x$. $(A - Bk)$ is arbitrary eigenvalues.\n",
    "\n",
    "### 3. Arbitrary eigenvalue (pole) placement\n",
    "$$U = -Kx$$\n",
    "which means $\\dot x = (A - Bk)x$. $(A - Bk)$ is arbitrary eigenvalues."
   ]
  },
  {
   "attachments": {},
   "cell_type": "markdown",
   "metadata": {},
   "source": [
    "\n",
    "\n",
    "##### Commands\n",
    "| Matlab | [Python](https://python-control.readthedocs.io/en/latest/generated/control.matlab.place.html) |\n",
    "| :----: | :----: |\n",
    "|`K = place(A, B, eigs)`| `control.matlab.place(A, B, p)` |"
   ]
  },
  {
   "cell_type": "code",
   "execution_count": null,
   "metadata": {
    "collapsed": true
   },
   "outputs": [],
   "source": []
  }
 ],
 "metadata": {
  "anaconda-cloud": {},
  "kernelspec": {
   "display_name": "ControlBootcamp",
   "language": "python",
   "name": "python3"
  },
  "language_info": {
   "codemirror_mode": {
    "name": "ipython",
    "version": 3
   },
   "file_extension": ".py",
   "mimetype": "text/x-python",
   "name": "python",
   "nbconvert_exporter": "python",
   "pygments_lexer": "ipython3",
   "version": "3.11.3"
  }
 },
 "nbformat": 4,
 "nbformat_minor": 1
}
