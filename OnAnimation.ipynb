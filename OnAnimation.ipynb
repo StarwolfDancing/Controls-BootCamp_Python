{
 "cells": [
  {
   "cell_type": "markdown",
   "metadata": {},
   "source": [
    "# On Animation\n",
    "For the animation, I wanted to use [VPython/Glowscript](https://www.glowscript.org/) because of the simpicity of code, as shown in [Introduction to Vpython 2d graphs and animation - Python CodeMan (YouTube)](https://youtu.be/FQ5x-C85rLM), but I could not make it work in this notebook while using `VS Code`. Even in Jupyter, I had to restart the kernel to get the output of a changed cell. Hence I tried [Plotly](https://plotly.com/python), because it seem to be more suitable for web application (incl. [Jupyter](https://jupyter.org/) notebooks) and it seems to be simpler than [Matplotlib](https://www.matplotlib.org), especially with `plotly.express`. But the animation is pretty slow. Hence back to `Matplotlib`.\n",
    "\n",
    "1. [Intro to Animations in Python](https://plotly.com/python/animations)\n",
    "1. [Simulate + Animate Simple Pendulum in Python - Logan Dihel (YouTube)](https://youtu.be/WNJJuSWfuTY)"
   ]
  },
  {
   "cell_type": "code",
   "execution_count": null,
   "metadata": {},
   "outputs": [],
   "source": [
    "import plotly.express as px"
   ]
  },
  {
   "cell_type": "markdown",
   "metadata": {},
   "source": [
    "## Animation with `plotly.express` [1]"
   ]
  },
  {
   "cell_type": "code",
   "execution_count": null,
   "metadata": {},
   "outputs": [],
   "source": [
    "df = px.data.gapminder()\n",
    "px.scatter(df, x=\"gdpPercap\", y=\"lifeExp\", animation_frame=\"year\", animation_group=\"country\",\n",
    "           size=\"pop\", color=\"continent\", hover_name=\"country\",\n",
    "           log_x=True, size_max=55, range_x=[100,100000], range_y=[25,90])"
   ]
  },
  {
   "cell_type": "markdown",
   "metadata": {},
   "source": [
    "## Animation with `plotly.graph_objects` [1]\n",
    "So far no way to change \"frame rate\"."
   ]
  },
  {
   "cell_type": "code",
   "execution_count": null,
   "metadata": {},
   "outputs": [],
   "source": [
    "import plotly.graph_objects as go\n",
    "import numpy as np"
   ]
  },
  {
   "cell_type": "code",
   "execution_count": null,
   "metadata": {},
   "outputs": [],
   "source": [
    "n = 64\n",
    "t = np.linspace(0, 2*np.pi, num=n, endpoint=True)\n",
    "x = np.sin(t)\n",
    "y = np.cos(t)"
   ]
  },
  {
   "cell_type": "code",
   "execution_count": null,
   "metadata": {},
   "outputs": [],
   "source": [
    "fig = go.Figure(\n",
    "    data=[go.Scatter(x=[0, x[0]], y=[0, y[0]])],\n",
    "    layout=go.Layout(\n",
    "        xaxis=dict(range=[-1.5, 1.5], autorange=False),\n",
    "        yaxis=dict(range=[-1.5, 1.5], autorange=False),\n",
    "        title=\"Start Title\",\n",
    "        updatemenus=[dict(type=\"buttons\", buttons=[dict(label=\"Play\", method=\"animate\", args=[None])])]\n",
    "    ),\n",
    "    frames=[go.Frame(data=[go.Scatter(x = [0, x[i]], y = [0, y[i]])]) for i in range(n)]\n",
    ")\n",
    "fig.update_layout(width = 500, height = 500)\n",
    "\n",
    "fig.show()"
   ]
  },
  {
   "cell_type": "markdown",
   "metadata": {},
   "source": [
    "## Animation with [Matplotlib](https://matplotlib.org/stable/users/explain/animations/animations.html)\n",
    "\n",
    "So far the GUI elements are missing, hence the animation can't be stopped. -> Save animation without display in cell."
   ]
  },
  {
   "cell_type": "code",
   "execution_count": 24,
   "metadata": {},
   "outputs": [],
   "source": [
    "import matplotlib.pyplot as plt\n",
    "import matplotlib.animation as animation\n",
    "import numpy as np\n",
    "from IPython.display import Video"
   ]
  },
  {
   "cell_type": "markdown",
   "metadata": {},
   "source": [
    "### Setup and preparations"
   ]
  },
  {
   "cell_type": "code",
   "execution_count": 26,
   "metadata": {},
   "outputs": [
    {
     "data": {
      "image/png": "[encoded data removed]",
      "text/plain": [
       "<Figure size 640x480 with 1 Axes>"
      ]
     },
     "metadata": {},
     "output_type": "display_data"
    }
   ],
   "source": [
    "n = 64\n",
    "t = np.linspace(0, 2*np.pi, num=n, endpoint=True)\n",
    "x = np.sin(t)\n",
    "y = np.cos(t)\n",
    "\n",
    "xc, h_cart, w_cart = 0, 0.2, 1\n",
    "\n",
    "fig, ax = plt.subplots()\n",
    "ax.set(xlim=[-1, 5], ylim=[-1.5, 1.5])\n",
    "ax.set_aspect('equal', 'box')\n",
    "ax.axis(\"off\")\n",
    "ax.axhline(-h_cart)\n",
    "\n",
    "# Cart & pendulum\n",
    "cart = ax.bar(x=xc, height=h_cart, width=w_cart, bottom=-h_cart, align=\"center\")\n",
    "# [0] at the end is necessary to get first list element\n",
    "line = ax.plot([xc, x[0]], [0, y[0]], marker = 'o')[0]\n",
    "line.set_data([xc, x[7]], [0, y[7]])"
   ]
  },
  {
   "cell_type": "markdown",
   "metadata": {},
   "source": [
    "### Animation -> Clip"
   ]
  },
  {
   "cell_type": "code",
   "execution_count": 27,
   "metadata": {},
   "outputs": [
    {
     "data": {
      "text/html": [
       "<video src=\"matplotlib.mp4\" controls  >\n",
       "      Your browser does not support the <code>video</code> element.\n",
       "    </video>"
      ],
      "text/plain": [
       "<IPython.core.display.Video object>"
      ]
     },
     "execution_count": 27,
     "metadata": {},
     "output_type": "execute_result"
    }
   ],
   "source": [
    "def update(t):\n",
    "    shift = t/20\n",
    "    line.set_data([xc+shift, x[t]+xc+shift], [0, y[t]])\n",
    "    cart.patches[0].set_x(-w_cart/2+shift)\n",
    "    return (line, cart)\n",
    "\n",
    "ani = animation.FuncAnimation(fig=fig, func=update, frames=n, interval=30)\n",
    "ani.save(\"matplotlib.mp4\")\n",
    "Video(\"matplotlib.mp4\")"
   ]
  },
  {
   "cell_type": "code",
   "execution_count": null,
   "metadata": {},
   "outputs": [],
   "source": []
  }
 ],
 "metadata": {
  "kernelspec": {
   "display_name": "Python 3",
   "language": "python",
   "name": "python3"
  },
  "language_info": {
   "codemirror_mode": {
    "name": "ipython",
    "version": 3
   },
   "file_extension": ".py",
   "mimetype": "text/x-python",
   "name": "python",
   "nbconvert_exporter": "python",
   "pygments_lexer": "ipython3",
   "version": "3.11.7"
  }
 },
 "nbformat": 4,
 "nbformat_minor": 2
}
