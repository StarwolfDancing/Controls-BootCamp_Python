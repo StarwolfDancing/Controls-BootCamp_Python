{
 "cells": [
  {
   "cell_type": "markdown",
   "metadata": {
    "slideshow": {
     "slide_type": "slide"
    }
   },
   "source": [
    "# Cayley–Hamilton Theorem (CHT)\n",
    "\n",
    "**Every square matrix in the real or complex field satisfies its own characteristic (eigenvalue) equation.**"
   ]
  },
  {
   "cell_type": "markdown",
   "metadata": {
    "slideshow": {
     "slide_type": "slide"
    }
   },
   "source": [
    "# Controllability and Reachability\n",
    "\n",
    "If and only if a system is controllable ie the controllability matrix $C(A, B)$ has full-row rank then any state is reachable.\n",
    "\n",
    "Let us consider an example for control system eqaution: $Y = Ax+Bu$\n",
    "\n",
    "Then $x$ is steerable to any vector in $R^n$ with some control input $u$.\n",
    "If $y = eAt$ then by CHT it can be written as the sum of finite series of powers of $A$ upto $A^{n-1}$ with time varying coefficients."
   ]
  },
  {
   "cell_type": "markdown",
   "metadata": {
    "slideshow": {
     "slide_type": "slide"
    }
   },
   "source": [
    "#  Reachability\n",
    "\n",
    "If a vector is reachable then an n ways of input control vector can be used to reach that vector."
   ]
  },
  {
   "cell_type": "markdown",
   "metadata": {
    "slideshow": {
     "slide_type": "slide"
    }
   },
   "source": [
    "# Using Cayley Hamilton Theorem\n",
    "\n",
    "The vector can be represented as linear combination of finite scalar convolutions set of terms or integrals and controllable matrix.\n",
    "\n",
    "Controllability is equivalent to reachability and vice versa.\n",
    "\n",
    "If system is controllable then there are infinite control $U$ to reach the vector.\n",
    "\n",
    "As $U$ is continuously varying function there are multiple degrees of freedom than $n \\cdot q$ to reach the vector.\n",
    "\n",
    "CHT helps to write convolution integral in terms of controllability matrix.\n",
    "\n",
    "![](./images/ReachabilityControlability.png)"
   ]
  },
  {
   "cell_type": "markdown",
   "metadata": {
    "slideshow": {
     "slide_type": "slide"
    }
   },
   "source": [
    "# Control a system in Matlab (Python)\n",
    "\n",
    "## Inverted Pendulum\n",
    "\n",
    "In Matlab / Python after developing the inverted pendulum equations using Jacobian Matrix and plugin the fixed points and linearized pendulum up and down condition and then check for controllability. One of eigen value of $A$ is unstable then the pendulum is moving To check controllability `Ctrb(A,B)4*4` if its rank is 4 then  system is controllable, else not. Further study can be made on stabilizing the system by measuring its parameters.\n",
    "\n",
    "![](./images/InvertedPendulumMatlab.png)"
   ]
  },
  {
   "cell_type": "markdown",
   "metadata": {
    "slideshow": {
     "slide_type": "subslide"
    }
   },
   "source": [
    "State of system\n",
    "- Position of cart: $x$, angle of pendulum arm: $\\Theta$\n",
    "- 2 degrees of freedom system\n",
    "- Its nonlinearity can be linearized\n",
    "- Fixed points: Pendulum up or down and no velocities\n",
    "\n",
    "## Python (Matlab)\n",
    "Matlab code here makes only sense, if you have a Matlab kernel (incl. toolboxes) or an Octave equivalent. The original Matlab code which was listed in `Python` cells can be found at [GitHub](https://github.com/bertozzijr/Control_Bootcamp_S_Brunton).\n",
    "\n",
    "- [Inverted pendulum - Wikipedia](https://en.wikipedia.org/wiki/Inverted_pendulum)\n",
    "- [Control Tutorials for MATLAB and Simulink - Inverted Pendulum: System Modeling](https://ctms.engin.umich.edu/CTMS/index.php?example=InvertedPendulum&section=SystemModeling)\n",
    "- [numpy.linalg.eigvals - NumPy Manual](https://numpy.org/doc/stable/reference/generated/numpy.linalg.eigvals.html#numpy-linalg-eigvals)\n",
    "- [scipy.integrate.ode - SciPy Manual](https://docs.scipy.org/doc/scipy/reference/generated/scipy.integrate.ode.html)"
   ]
  },
  {
   "cell_type": "markdown",
   "metadata": {},
   "source": [
    "- [cartpend.m](https://github.com/bertozzijr/Control_Bootcamp_S_Brunton/blob/master/cartpend.m)"
   ]
  },
  {
   "cell_type": "code",
   "execution_count": 1,
   "metadata": {},
   "outputs": [],
   "source": [
    "def cartpend(y, m, M, L, g, d, u):\n",
    "    # Nonlinear ODE (y: State vector (x in talk); m: Mass of pendulum head, M: Cart mass; L: Length of pendulum \n",
    "    # g: Gravitational acceleration, d: Damping factor, u: Controll input vector)\n",
    "    Sy = np.sin(y[2])\n",
    "    Cy = np.cos(y[2])\n",
    "    D = m * L * L * (M + m * (1 - Cy**2))\n",
    "    dy = np.zeros((4, 1))\n",
    "    dy[0, 0] = y[1]\n",
    "    dy[1, 0] = (1 / D) * (-m**2 * L**2 * g * Cy * Sy + m * L**2 * (m * L * y[3]**2 * Sy - d * y[1])) + m * L * L * (1 / D) * u\n",
    "    dy[2, 0] = y[3]\n",
    "    dy[3, 0] = (1 / D) * ((m + M) * m * g * L * Sy - m * L * Cy * (m * L * y[3]**2 * Sy - d * y[1])) - m * L * Cy * (1 / D) * u + 0.01 * np.random.randn()\n",
    "    return dy"
   ]
  },
  {
   "cell_type": "markdown",
   "metadata": {},
   "source": [
    "- [poleplace_cartpend.m](https://github.com/bertozzijr/Control_Bootcamp_S_Brunton/blob/master/poleplace_cartpend.m)"
   ]
  },
  {
   "cell_type": "code",
   "execution_count": 22,
   "metadata": {
    "tags": []
   },
   "outputs": [
    {
     "data": {
      "text/plain": [
       "(array([[ 0. ,  1. ,  0. ,  0. ],\n",
       "        [ 0. , -0.2,  2. ,  0. ],\n",
       "        [ 0. ,  0. ,  0. ,  1. ],\n",
       "        [ 0. , -0.1,  6. ,  0. ]]),\n",
       " array([[0. ],\n",
       "        [0.2],\n",
       "        [0. ],\n",
       "        [0.1]]))"
      ]
     },
     "execution_count": 22,
     "metadata": {},
     "output_type": "execute_result"
    }
   ],
   "source": [
    "import numpy as np\n",
    "\n",
    "m = 1 # Mass of pendulum head\n",
    "M = 5 # Cart mass\n",
    "L = 2 # Length of pendulum\n",
    "g = -10 # Gravitational acceleration\n",
    "d = 1 # Damping factor due to cart frictions (pendulum friction assumed to be negligible)\n",
    "s = 1 # pendulum up (s=1) / down (s=-1) switch\n",
    "\n",
    "A = np.array([[0, 1, 0, 0], \n",
    "              [0, -d/M, -m*g/M, 0], \n",
    "              [0, 0, 0, 1], \n",
    "              [0, -s*d/(M*L), -s*(m+M)*g/(M*L), 0]])\n",
    "B = np.array([[0], [1/M], [0], [s*1/(M*L)]])\n",
    "\n",
    "A, B"
   ]
  },
  {
   "cell_type": "code",
   "execution_count": 21,
   "metadata": {},
   "outputs": [
    {
     "data": {
      "text/plain": [
       "array([ 0.        , -2.46742895, -0.16651192,  2.43394087])"
      ]
     },
     "execution_count": 21,
     "metadata": {},
     "output_type": "execute_result"
    }
   ],
   "source": [
    "np.linalg.eigvals(A) # 0, -2.4674, -0.1665, 2.4339"
   ]
  },
  {
   "cell_type": "code",
   "execution_count": 29,
   "metadata": {},
   "outputs": [],
   "source": [
    "import control as ct\n",
    "\n",
    "# ans =    0    0.2000   -0.0400    0.2080\n",
    "#     0.2000   -0.0400    0.2080   -0.0816\n",
    "#          0    0.1000   -0.0200    0.6040\n",
    "#     0.1000   -0.0200    0.6040   -0.1408\n",
    "C = ct.ctrb(A, B) # Controlability matrix"
   ]
  },
  {
   "cell_type": "code",
   "execution_count": 28,
   "metadata": {},
   "outputs": [
    {
     "data": {
      "text/plain": [
       "4"
      ]
     },
     "execution_count": 28,
     "metadata": {},
     "output_type": "execute_result"
    }
   ],
   "source": [
    "np.linalg.matrix_rank(C) # Is it controllable?"
   ]
  },
  {
   "cell_type": "markdown",
   "metadata": {},
   "source": [
    "- [drawcartpend.m](https://github.com/bertozzijr/Control_Bootcamp_S_Brunton/blob/master/drawcartpend.m)"
   ]
  },
  {
   "cell_type": "code",
   "execution_count": 25,
   "metadata": {
    "tags": []
   },
   "outputs": [],
   "source": [
    "# def drawcartpend(y, m, M, L):\n",
    "#     x = y(1)\n",
    "#     th = y(3)\n",
    "#     W = 1 * sqrt(M / 5)\n",
    "#     H = 0.5 * sqrt(M / 5)\n",
    "#     wr = 0.2\n",
    "#     mr = 0.3 * sqrt(m)\n",
    "#     y = (wr / 2) + (H / 2)\n",
    "#     w1x = x - ((0.9 * W) / 2)\n",
    "#     w1y = 0\n",
    "#     w2x = (x + ((0.9 * W) / 2)) - wr\n",
    "#     w2y = 0\n",
    "#     px = x + (M[L] @ sin(th))\n",
    "#     py = y - (M[L] @ cos(th))\n",
    "#     plot(M[[-10, 10]], M[[0, 0]], \"k\", \"LineWidth\", 2)\n",
    "#     hold(\"on\")\n",
    "#     rectangle(\"Position\", M[[x - (W / 2), y - (H / 2), W, H]], \"Curvature\", 0.1, \"FaceColor\", M[[1, 0.1, 0.1]],)\n",
    "#     rectangle(\"Position\", M[[w1x, w1y, wr, wr]], \"Curvature\", 1, \"FaceColor\", M[[0, 0, 0]])\n",
    "#     rectangle(\"Position\", M[[w2x, w2y, wr, wr]], \"Curvature\", 1, \"FaceColor\", M[[0, 0, 0]])\n",
    "#     plot(M[[x, px]], M[[y, py]], \"k\", \"LineWidth\", 2)\n",
    "#     rectangle(\"Position\", M[[px - (mr / 2), py - (mr / 2), mr, mr]], \"Curvature\", 1, \"FaceColor\", M[[0.1, 0.1, 1]],)\n",
    "#     xlim(M[[-5, 5]])\n",
    "#     ylim(M[[-2, 2.5]])\n",
    "#     set(gcf, \"Position\", M[[100, 550, 1000, 400]])\n",
    "#     drawnow\n",
    "#     hold(\"off\")"
   ]
  },
  {
   "cell_type": "markdown",
   "metadata": {},
   "source": [
    "- [sim_cartpend.m](https://github.com/bertozzijr/Control_Bootcamp_S_Brunton/blob/master/sim_cartpend.m)"
   ]
  },
  {
   "cell_type": "code",
   "execution_count": 15,
   "metadata": {
    "tags": []
   },
   "outputs": [],
   "source": [
    "# m = 1\n",
    "# M = 5\n",
    "# L = 2\n",
    "# g = -10\n",
    "# d = 1\n",
    "# tspan = M[0:0.1:10]\n",
    "# y0 = M[0, 0, np.pi, 0.5,]\n",
    "# for k in M[1 : length(t)]:\n",
    "#     drawcartpend_bw(y[I[k, :]], m, M, L)"
   ]
  },
  {
   "cell_type": "markdown",
   "metadata": {},
   "source": [
    "![](./images/InvertedPendulum.png)"
   ]
  },
  {
   "cell_type": "markdown",
   "metadata": {},
   "source": [
    "- [poleplace_cartpend.m](https://github.com/bertozzijr/Control_Bootcamp_S_Brunton/blob/master/poleplace_cartpend.m)"
   ]
  },
  {
   "cell_type": "code",
   "execution_count": 16,
   "metadata": {},
   "outputs": [],
   "source": [
    "# %%  Pole placement\n",
    "\n",
    "# % p is a vector of desired eigenvalues\n",
    "# % p = [-.01; -.02; -.03; -.04]; % not enough\n",
    "# p = [-.3; -.4; -.5; -.6];  % just barely\n",
    "# p = [-1; -1.1; -1.2; -1.3]; % good\n",
    "# p = [-2; -2.1; -2.2; -2.3]; % aggressive\n",
    "# p = [-3; -3.1; -3.2; -3.3]; % aggressive\n",
    "# % p = [-3.5; -3.6; -3.7; -3.8]; % breaks\n",
    "# K = place(A,B,p);\n",
    "# % K = lqr(A,B,Q,R);\n",
    "\n",
    "# tspan = 0:.001:10;\n",
    "# if(s==-1)\n",
    "#     y0 = [0; 0; 0; 0];\n",
    "#     %[t,y] = ode45(@(t,y)cartpend(y,m,M,L,g,d,-K*(y-[4; 0; 0; 0])),tspan,y0);\n",
    "# elseif(s==1)\n",
    "#     y0 = [-3; 0; pi+.1; 0];\n",
    "# %     [t,y] = ode45(@(t,y)cartpend(y,m,M,L,g,d,-K*(y-[1; 0; pi; 0])),tspan,y0);\n",
    "#    % [t,y] = ode45(@(t,y)cartpend(y,m,M,L,g,d,-K*(y-[1; 0; pi; 0])),tspan,y0);\n",
    "# else \n",
    "# end\n",
    "\n",
    "# for k=1:100:length(t)\n",
    "#     drawcartpend_bw(y(k,:),m,M,L);\n",
    "# end"
   ]
  },
  {
   "cell_type": "code",
   "execution_count": null,
   "metadata": {
    "tags": []
   },
   "outputs": [],
   "source": []
  }
 ],
 "metadata": {
  "kernelspec": {
   "display_name": "Python 3 (ipykernel)",
   "language": "python",
   "name": "python3"
  },
  "language_info": {
   "codemirror_mode": {
    "name": "ipython",
    "version": 3
   },
   "file_extension": ".py",
   "mimetype": "text/x-python",
   "name": "python",
   "nbconvert_exporter": "python",
   "pygments_lexer": "ipython3",
   "version": "3.11.7"
  }
 },
 "nbformat": 4,
 "nbformat_minor": 4
}
