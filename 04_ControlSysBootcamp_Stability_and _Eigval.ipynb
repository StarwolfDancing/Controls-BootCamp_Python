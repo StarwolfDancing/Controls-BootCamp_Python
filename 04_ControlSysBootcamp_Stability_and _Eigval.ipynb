{
 "cells": [
  {
   "cell_type": "markdown",
   "metadata": {
    "jupyter": {
     "source_hidden": true
    },
    "tags": []
   },
   "source": [
    "## CB.ENP2AEL17002\n",
    "## Anjali Mukherjee\n",
    "\n",
    "# Control System Bootcamp Video 3"
   ]
  },
  {
   "cell_type": "code",
   "execution_count": 1,
   "metadata": {
    "collapsed": true,
    "jupyter": {
     "outputs_hidden": true,
     "source_hidden": true
    },
    "tags": []
   },
   "outputs": [
    {
     "data": {
      "text/html": [
       "\n",
       "<iframe width=\"560\" height=\"315\" src=\"https://www.youtube.com/embed/h7nJ6ZL4Lf0\" frameborder=\"0\" allow=\"autoplay; encrypted-media\" allowfullscreen></iframe>\n"
      ],
      "text/plain": [
       "<IPython.core.display.HTML object>"
      ]
     },
     "execution_count": 1,
     "metadata": {},
     "output_type": "execute_result"
    }
   ],
   "source": [
    "from IPython.display import HTML\n",
    "HTML(\"\"\"\n",
    "<iframe width=\"560\" height=\"315\" src=\"https://www.youtube.com/embed/h7nJ6ZL4Lf0\" frameborder=\"0\" allow=\"autoplay; encrypted-media\" allowfullscreen></iframe>\n",
    "\"\"\")"
   ]
  },
  {
   "cell_type": "markdown",
   "metadata": {
    "tags": []
   },
   "source": [
    "## Stability and Eigen Values\n",
    "\n",
    "### Recap\n",
    "\n",
    "- Equation of a system\n",
    "\n",
    "$$\\dot X = AX , X \\epsilon R^n$$\n",
    "\n",
    "$$X(t) = e^{At}X(0)$$\n",
    "\n",
    "- Taylor series expansion of $e^At$: \n",
    "\n",
    "$$e^At = I + At+ \\frac{A^2t^2}{2!}+\\frac{A^3t^3}{3!}+...$$\n",
    "\n",
    "- $A$ in terms of its eigen values and eigen vectors: $A= TDT^{-1}$\n",
    "\n",
    "- Writing $X$ in terms of eigen vectors: \n",
    "\n",
    "$$X = Tz$$\n",
    "\n",
    "$$\\dot X = T \\dot z$$\n",
    "\n",
    "$$\\dot z = Dz$$\n",
    "\n",
    "- It is simple to see the system dynamics if the system equation is broken down into eigen values and eigen vectors.\n",
    "\n",
    "$$e^{At} = e^{TDT^{-1}} = TT^{-1}+TDT^{-1}+ (TDT^{-1}TDT^{-1})\\frac{t^2}{2!}+... = Te^{Dt}T^{-1}$$\n",
    "\n",
    "$$\\begin{equation}X(t) = Te^{Dt}T^{-1}X(0)\\end{equation}$$\n",
    "\n",
    "$$D = \\begin{bmatrix}\\lambda_1 & 0 & ...&0 \\\\0 &\\lambda_2 & ... & 0 \\\\ \\vdots & \\vdots &\\ddots &\\vdots\\\\  0 & 0&... &\\lambda_n  \\end{bmatrix}$$\n",
    "\n",
    "- Easy to compute $e^{Dt}$ and $T$ can be computed as shown in below code."
   ]
  },
  {
   "cell_type": "code",
   "execution_count": 6,
   "metadata": {
    "tags": []
   },
   "outputs": [
    {
     "name": "stdout",
     "output_type": "stream",
     "text": [
      "T =\n",
      "[[-0.56730355 -0.82570297 -0.28510867]\n",
      " [-0.47420984  0.26890404 -0.76169163]\n",
      " [-0.67326942  0.49588832  0.58184096]] \n",
      "D =\n",
      "[[ 6.23216886  0.          0.        ]\n",
      " [ 0.         -1.45302863  0.        ]\n",
      " [ 0.          0.          0.22085977]]\n"
     ]
    }
   ],
   "source": [
    "import numpy as np\n",
    "\n",
    "A = np.array([[1, 2, 3], [2, 1, 2], [3, 1, 3]])\n",
    "d, T = np.linalg.eig(A)\n",
    "D = np.diag(d) \n",
    "\n",
    "print(f\"T =\\n{T} \\nD =\\n{D}\")"
   ]
  },
  {
   "cell_type": "markdown",
   "metadata": {},
   "source": [
    "## Stability of Continuous Time Systems\n",
    "\n",
    "What happens to the system when time goes to infinity? Does it tend to infinity or it goes down to zero or something different happens? $e^{Dt}$ is responsible for all this.\n",
    "\n",
    "$$e^{Dt} = \\begin{bmatrix}e^{\\lambda_1} & 0 & ...&0 \\\\0 &e^{\\lambda_2} & ... & 0 \\\\ \\vdots & \\vdots &\\ddots &\\vdots\\\\  0 & 0&... &e^{\\lambda_n}  \\end{bmatrix}$$\n",
    "\n",
    "Depending on the eigen values, even if one component of $e^{DT}$ becomes infinity, the equation $\\begin{equation}X(t) = Te^{Dt}T^{-1}X(0)\\end{equation}$ will tend to infinity as time tends to infinity.\n",
    "\n",
    "\\begin{equation} \\lambda = a +\\imath b \\end{equation} ie., \\begin{equation} e^{\\lambda t} = e^{at}[{cos(bt) +\\imath sin (bt)}] \\end{equation}"
   ]
  },
  {
   "cell_type": "markdown",
   "metadata": {},
   "source": [
    "If $A, X$ all are real, $ \\dot X = AX$ has real solutions. ${cos(bt) +\\imath sin (bt)}$ has amplitude always less than or equal to 1. Thus $e^{at}$ decides the fate of the system as given below. When $a>0$, system blows up to infinity,\n",
    "    \n",
    "![When $a>0$](./images/graph1.jpg)\n",
    "    \n",
    "When $a<0$, system settles down to zero.\n",
    "    \n",
    "![When $a>0$](./images/graph2.jpg)\n",
    "\n",
    "i.e., All the eigen values should have negative real part for the system to be stable. Even if one of them is negative, that particular component will make the system unstable.So, in short, If we represent this graphically on the complex plane $\\lambda \\in C$, \n",
    "\n",
    "![stability](./images/graph3.jpg)\n",
    "\n",
    "When the eigen values lie to the left side of the complex plane, system is stable. When they lie on the right side, system is unstable, and to make it stable we have to steer the eigen values towards left side by adding the control part into the equation (ie., equation of the system now becomes $\\dot X = AX + BU$)\n",
    "\n",
    "The whole system thus can be characterized using just the eigen values."
   ]
  },
  {
   "cell_type": "markdown",
   "metadata": {},
   "source": [
    "## Stability of Discrete Time Systems\n",
    "\n",
    "In a physical system, data is not recorded continuously. What we get is discrete data at fixed increments of interval of time $\\Delta t$.\n",
    "\n",
    "So, we define a discrete time system with the equation given below,\n",
    "$\\begin{equation} X_{k+1} = \\tilde A  X_k\\end{equation} $ where $X_k = X(k\\Delta t)$\n",
    "\n",
    "The system is measured at individual $\\Delta t$ instances of time and the above equation gives an update about what state of the system would be in the next $k+1^{th}$ instant $\\begin{equation} \\tilde A = e^{A\\Delta t}\\end{equation}$\n",
    "\n",
    "$\\tilde A$ and $A$ are related by the exponential relation. Notion of stability is different for the discrete time systems. Assuming that the initial condition $X_0$ is known, we can define a whole set of measurements by just multiplying by $\\tilde A$ as follows.\n",
    "\n",
    "$$X_1 = \\tilde A X_0$$\n",
    "$$X_2 = \\tilde A X_1 = \\tilde {A^2} X_0$$\n",
    "$$X_3 = \\tilde {A^3} X_0$$\n",
    "$$X_4 = \\tilde {A^4} X_0$$\n",
    "$$\\vdots$$\n",
    "$$X_N = \\tilde {A^N} X_0$$\n",
    "\n",
    "Like in the continuous time case, we can write $\\tilde A$ in terms of its eigen values and eigen vectors as $\\tilde T\\tilde D\\tilde T^{-1}$.\n",
    "\n",
    "We can see that, the powers only affect the diagonal matrix D, and thus in each equation, $\\lambda$, $\\lambda^2$, $\\lambda^3$,...,$\\lambda^N$ appears.\n",
    "\n",
    "$ \\lambda = Re^{i\\theta} $ (Representing in polar form on complex plane)\n",
    "    \n",
    "![complex plane](./images/graph4.jpg)\n",
    "    \n",
    "$\\lambda^N = R^N e^{iN\\theta}$\n",
    "\n",
    "So, it is the radius of the eigen value that grows or shrinks. If radius $R$ is greater than 1, as N increases, R goes to infinity and the system becomes unstable. If $R$ is less than 1, the system decays to zero as N increases and becomes stable. Representing this on the complex plane, \n",
    "\n",
    "![complex unit circle](./images/graph5.jpg)\n",
    "\n",
    "$\\begin{equation} \\tilde A = e^{A\\Delta t}\\end{equation}$ maps discrete time system to the continuous time case described above.\n",
    "\n",
    "Summarizing, in continuous as well as discrete systems, the system stability depends only on the eigen values of the system. In continuous time, if all eigen values have negative real part, the system is stable. In discrete time system, the eigen value should lie within a unit circle, that is the magnitude should be less than One, for the system to be stable."
   ]
  }
 ],
 "metadata": {
  "kernelspec": {
   "display_name": "Python 3 (ipykernel)",
   "language": "python",
   "name": "python3"
  },
  "language_info": {
   "codemirror_mode": {
    "name": "ipython",
    "version": 3
   },
   "file_extension": ".py",
   "mimetype": "text/x-python",
   "name": "python",
   "nbconvert_exporter": "python",
   "pygments_lexer": "ipython3",
   "version": "3.11.3"
  }
 },
 "nbformat": 4,
 "nbformat_minor": 4
}
